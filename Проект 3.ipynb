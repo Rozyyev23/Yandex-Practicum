{
 "cells": [
  {
   "cell_type": "markdown",
   "id": "c81a8a11",
   "metadata": {},
   "source": [
    "<div style=\"border:solid green 3px; padding: 20px\">\n",
    "<b>🥇 Ата, спасибо за доработки, проект принят, молодец!</b>\n",
    "    \n",
    "Ты провел хорошую работу над ошибками! Уверен, ты обязательно достигнешь своей цели! Успехов в дальнейшем обучении! 🙂\n",
    "    "
   ]
  },
  {
   "cell_type": "markdown",
   "id": "7b140bcc",
   "metadata": {},
   "source": [
    "<div style=\"border:solid green 2px; padding: 20px\">\n",
    "Ата, привет! Меня зовут Ефимов Денис и сегодня я буду делать ревью твоего проекта!\n",
    "    \n",
    "В Практикуме принято общаться на \"ты\", однако если это неудобно - дай знать, и можем перейти на более официальное общение.\n",
    "\n",
    "Ниже ты найдешь мои комментарии - пожалуйста, не перемещай, не изменяй и не удаляй их. Я буду использовать цветовую разметку: \n",
    "\n",
    "<div class=\"alert alert-block alert-success\">\n",
    "<b>✅Комментарий ревьюера:</b> Если все сделано хорошо. </div>\n",
    "\n",
    "<div class=\"alert alert-block alert-warning\">\n",
    "<b>🔁Комментарий ревьюера:</b> Некритичное замечание, рекомендация.</div>\n",
    "\n",
    "<div class=\"alert alert-block alert-danger\">\n",
    "<b>❌Комментарий ревьюера:</b> Грубая ошибка, необходимо исправить, иначе проект не будет принят.\n",
    "</div>\n",
    "\n",
    "Давай работать над проектом в диалоге: если ты что-то меняешь в проекте или отвечаешь на мои комментарии — пиши об этом. Мне будет легче отследить изменения, если ты выделишь свои комментарии:\n",
    "Например так:\n",
    "<div class=\"alert alert-block alert-info\">\n",
    "<b>🔄Комментарий студента:</b> \n",
    "Hello World! ✔\n",
    "</div>\n",
    "\n",
    "Или можешь использовать эту галочку ✔ в моих комментариях, если писать особо нечего.\n",
    "\n",
    "<div class=\"alert alert-block alert-warning\">\n",
    "<b>Общее впечатление:</b> \n",
    "    \n",
    "- Ты проделал огромную работу :)\n",
    "- У меня есть несколько замечаний, исправив которые ты сделаешь проект  лучше.\n",
    "- Пробегись по моим комментариям, исправь недочёты и всё будет отлично :)\n",
    "    \n",
    "</div>\n",
    "\n"
   ]
  },
  {
   "cell_type": "markdown",
   "metadata": {
    "id": "-VFbjcb3Awb7"
   },
   "source": [
    "# Исследование объявлений о продаже квартир\n",
    "\n",
    "В вашем распоряжении данные сервиса Яндекс Недвижимость — архив объявлений о продаже квартир в Санкт-Петербурге и соседних населённых пунктах за несколько лет. Вам нужно научиться определять рыночную стоимость объектов недвижимости. Для этого проведите исследовательский анализ данных и установите параметры, влияющие на цену объектов. Это позволит построить автоматизированную систему: она отследит аномалии и мошенническую деятельность.\n",
    "\n",
    "По каждой квартире на продажу доступны два вида данных. Первые вписаны пользователем, вторые — получены автоматически на основе картографических данных. Например, расстояние до центра, аэропорта и других объектов — эти данные автоматически получены из геосервисов. Количество парков и водоёмов также заполняется без участия пользователя."
   ]
  },
  {
   "cell_type": "markdown",
   "metadata": {
    "id": "aeFLH07FAwb9"
   },
   "source": [
    "### Откройте файл с данными и изучите общую информацию"
   ]
  },
  {
   "cell_type": "code",
   "execution_count": 1,
   "metadata": {},
   "outputs": [],
   "source": [
    "import pandas as pd\n",
    "import matplotlib.pyplot as plt"
   ]
  },
  {
   "cell_type": "markdown",
   "id": "33ce0fcd",
   "metadata": {},
   "source": [
    "<div class=\"alert alert-block alert-success\">\n",
    "<b>✅Комментарий ревьюера:</b> Правильно, что импортируешь все библиотеки в отдельной ячейке!  </div>"
   ]
  },
  {
   "cell_type": "code",
   "execution_count": 2,
   "metadata": {
    "id": "7MZxY65pAwb9"
   },
   "outputs": [],
   "source": [
    " data = pd.read_csv('/datasets/real_estate_data.csv', sep = '\\t')"
   ]
  },
  {
   "cell_type": "code",
   "execution_count": 3,
   "metadata": {},
   "outputs": [
    {
     "data": {
      "text/html": [
       "<div>\n",
       "<style scoped>\n",
       "    .dataframe tbody tr th:only-of-type {\n",
       "        vertical-align: middle;\n",
       "    }\n",
       "\n",
       "    .dataframe tbody tr th {\n",
       "        vertical-align: top;\n",
       "    }\n",
       "\n",
       "    .dataframe thead th {\n",
       "        text-align: right;\n",
       "    }\n",
       "</style>\n",
       "<table border=\"1\" class=\"dataframe\">\n",
       "  <thead>\n",
       "    <tr style=\"text-align: right;\">\n",
       "      <th></th>\n",
       "      <th>total_images</th>\n",
       "      <th>last_price</th>\n",
       "      <th>total_area</th>\n",
       "      <th>first_day_exposition</th>\n",
       "      <th>rooms</th>\n",
       "      <th>ceiling_height</th>\n",
       "      <th>floors_total</th>\n",
       "      <th>living_area</th>\n",
       "      <th>floor</th>\n",
       "      <th>is_apartment</th>\n",
       "      <th>...</th>\n",
       "      <th>kitchen_area</th>\n",
       "      <th>balcony</th>\n",
       "      <th>locality_name</th>\n",
       "      <th>airports_nearest</th>\n",
       "      <th>cityCenters_nearest</th>\n",
       "      <th>parks_around3000</th>\n",
       "      <th>parks_nearest</th>\n",
       "      <th>ponds_around3000</th>\n",
       "      <th>ponds_nearest</th>\n",
       "      <th>days_exposition</th>\n",
       "    </tr>\n",
       "  </thead>\n",
       "  <tbody>\n",
       "    <tr>\n",
       "      <th>0</th>\n",
       "      <td>20</td>\n",
       "      <td>13000000.0</td>\n",
       "      <td>108.0</td>\n",
       "      <td>2019-03-07T00:00:00</td>\n",
       "      <td>3</td>\n",
       "      <td>2.70</td>\n",
       "      <td>16.0</td>\n",
       "      <td>51.0</td>\n",
       "      <td>8</td>\n",
       "      <td>NaN</td>\n",
       "      <td>...</td>\n",
       "      <td>25.0</td>\n",
       "      <td>NaN</td>\n",
       "      <td>Санкт-Петербург</td>\n",
       "      <td>18863.0</td>\n",
       "      <td>16028.0</td>\n",
       "      <td>1.0</td>\n",
       "      <td>482.0</td>\n",
       "      <td>2.0</td>\n",
       "      <td>755.0</td>\n",
       "      <td>NaN</td>\n",
       "    </tr>\n",
       "    <tr>\n",
       "      <th>1</th>\n",
       "      <td>7</td>\n",
       "      <td>3350000.0</td>\n",
       "      <td>40.4</td>\n",
       "      <td>2018-12-04T00:00:00</td>\n",
       "      <td>1</td>\n",
       "      <td>NaN</td>\n",
       "      <td>11.0</td>\n",
       "      <td>18.6</td>\n",
       "      <td>1</td>\n",
       "      <td>NaN</td>\n",
       "      <td>...</td>\n",
       "      <td>11.0</td>\n",
       "      <td>2.0</td>\n",
       "      <td>посёлок Шушары</td>\n",
       "      <td>12817.0</td>\n",
       "      <td>18603.0</td>\n",
       "      <td>0.0</td>\n",
       "      <td>NaN</td>\n",
       "      <td>0.0</td>\n",
       "      <td>NaN</td>\n",
       "      <td>81.0</td>\n",
       "    </tr>\n",
       "    <tr>\n",
       "      <th>2</th>\n",
       "      <td>10</td>\n",
       "      <td>5196000.0</td>\n",
       "      <td>56.0</td>\n",
       "      <td>2015-08-20T00:00:00</td>\n",
       "      <td>2</td>\n",
       "      <td>NaN</td>\n",
       "      <td>5.0</td>\n",
       "      <td>34.3</td>\n",
       "      <td>4</td>\n",
       "      <td>NaN</td>\n",
       "      <td>...</td>\n",
       "      <td>8.3</td>\n",
       "      <td>0.0</td>\n",
       "      <td>Санкт-Петербург</td>\n",
       "      <td>21741.0</td>\n",
       "      <td>13933.0</td>\n",
       "      <td>1.0</td>\n",
       "      <td>90.0</td>\n",
       "      <td>2.0</td>\n",
       "      <td>574.0</td>\n",
       "      <td>558.0</td>\n",
       "    </tr>\n",
       "    <tr>\n",
       "      <th>3</th>\n",
       "      <td>0</td>\n",
       "      <td>64900000.0</td>\n",
       "      <td>159.0</td>\n",
       "      <td>2015-07-24T00:00:00</td>\n",
       "      <td>3</td>\n",
       "      <td>NaN</td>\n",
       "      <td>14.0</td>\n",
       "      <td>NaN</td>\n",
       "      <td>9</td>\n",
       "      <td>NaN</td>\n",
       "      <td>...</td>\n",
       "      <td>NaN</td>\n",
       "      <td>0.0</td>\n",
       "      <td>Санкт-Петербург</td>\n",
       "      <td>28098.0</td>\n",
       "      <td>6800.0</td>\n",
       "      <td>2.0</td>\n",
       "      <td>84.0</td>\n",
       "      <td>3.0</td>\n",
       "      <td>234.0</td>\n",
       "      <td>424.0</td>\n",
       "    </tr>\n",
       "    <tr>\n",
       "      <th>4</th>\n",
       "      <td>2</td>\n",
       "      <td>10000000.0</td>\n",
       "      <td>100.0</td>\n",
       "      <td>2018-06-19T00:00:00</td>\n",
       "      <td>2</td>\n",
       "      <td>3.03</td>\n",
       "      <td>14.0</td>\n",
       "      <td>32.0</td>\n",
       "      <td>13</td>\n",
       "      <td>NaN</td>\n",
       "      <td>...</td>\n",
       "      <td>41.0</td>\n",
       "      <td>NaN</td>\n",
       "      <td>Санкт-Петербург</td>\n",
       "      <td>31856.0</td>\n",
       "      <td>8098.0</td>\n",
       "      <td>2.0</td>\n",
       "      <td>112.0</td>\n",
       "      <td>1.0</td>\n",
       "      <td>48.0</td>\n",
       "      <td>121.0</td>\n",
       "    </tr>\n",
       "  </tbody>\n",
       "</table>\n",
       "<p>5 rows × 22 columns</p>\n",
       "</div>"
      ],
      "text/plain": [
       "   total_images  last_price  total_area first_day_exposition  rooms  \\\n",
       "0            20  13000000.0       108.0  2019-03-07T00:00:00      3   \n",
       "1             7   3350000.0        40.4  2018-12-04T00:00:00      1   \n",
       "2            10   5196000.0        56.0  2015-08-20T00:00:00      2   \n",
       "3             0  64900000.0       159.0  2015-07-24T00:00:00      3   \n",
       "4             2  10000000.0       100.0  2018-06-19T00:00:00      2   \n",
       "\n",
       "   ceiling_height  floors_total  living_area  floor is_apartment  ...  \\\n",
       "0            2.70          16.0         51.0      8          NaN  ...   \n",
       "1             NaN          11.0         18.6      1          NaN  ...   \n",
       "2             NaN           5.0         34.3      4          NaN  ...   \n",
       "3             NaN          14.0          NaN      9          NaN  ...   \n",
       "4            3.03          14.0         32.0     13          NaN  ...   \n",
       "\n",
       "   kitchen_area  balcony    locality_name  airports_nearest  \\\n",
       "0          25.0      NaN  Санкт-Петербург           18863.0   \n",
       "1          11.0      2.0   посёлок Шушары           12817.0   \n",
       "2           8.3      0.0  Санкт-Петербург           21741.0   \n",
       "3           NaN      0.0  Санкт-Петербург           28098.0   \n",
       "4          41.0      NaN  Санкт-Петербург           31856.0   \n",
       "\n",
       "  cityCenters_nearest  parks_around3000  parks_nearest  ponds_around3000  \\\n",
       "0             16028.0               1.0          482.0               2.0   \n",
       "1             18603.0               0.0            NaN               0.0   \n",
       "2             13933.0               1.0           90.0               2.0   \n",
       "3              6800.0               2.0           84.0               3.0   \n",
       "4              8098.0               2.0          112.0               1.0   \n",
       "\n",
       "   ponds_nearest  days_exposition  \n",
       "0          755.0              NaN  \n",
       "1            NaN             81.0  \n",
       "2          574.0            558.0  \n",
       "3          234.0            424.0  \n",
       "4           48.0            121.0  \n",
       "\n",
       "[5 rows x 22 columns]"
      ]
     },
     "execution_count": 3,
     "metadata": {},
     "output_type": "execute_result"
    }
   ],
   "source": [
    "data.head()"
   ]
  },
  {
   "cell_type": "code",
   "execution_count": 4,
   "metadata": {},
   "outputs": [
    {
     "name": "stdout",
     "output_type": "stream",
     "text": [
      "<class 'pandas.core.frame.DataFrame'>\n",
      "RangeIndex: 23699 entries, 0 to 23698\n",
      "Data columns (total 22 columns):\n",
      " #   Column                Non-Null Count  Dtype  \n",
      "---  ------                --------------  -----  \n",
      " 0   total_images          23699 non-null  int64  \n",
      " 1   last_price            23699 non-null  float64\n",
      " 2   total_area            23699 non-null  float64\n",
      " 3   first_day_exposition  23699 non-null  object \n",
      " 4   rooms                 23699 non-null  int64  \n",
      " 5   ceiling_height        14504 non-null  float64\n",
      " 6   floors_total          23613 non-null  float64\n",
      " 7   living_area           21796 non-null  float64\n",
      " 8   floor                 23699 non-null  int64  \n",
      " 9   is_apartment          2775 non-null   object \n",
      " 10  studio                23699 non-null  bool   \n",
      " 11  open_plan             23699 non-null  bool   \n",
      " 12  kitchen_area          21421 non-null  float64\n",
      " 13  balcony               12180 non-null  float64\n",
      " 14  locality_name         23650 non-null  object \n",
      " 15  airports_nearest      18157 non-null  float64\n",
      " 16  cityCenters_nearest   18180 non-null  float64\n",
      " 17  parks_around3000      18181 non-null  float64\n",
      " 18  parks_nearest         8079 non-null   float64\n",
      " 19  ponds_around3000      18181 non-null  float64\n",
      " 20  ponds_nearest         9110 non-null   float64\n",
      " 21  days_exposition       20518 non-null  float64\n",
      "dtypes: bool(2), float64(14), int64(3), object(3)\n",
      "memory usage: 3.7+ MB\n"
     ]
    }
   ],
   "source": [
    "data.info()"
   ]
  },
  {
   "cell_type": "code",
   "execution_count": 5,
   "metadata": {},
   "outputs": [
    {
     "data": {
      "image/png": "[encoded data removed]",
      "text/plain": [
       "<Figure size 1080x1440 with 20 Axes>"
      ]
     },
     "metadata": {
      "needs_background": "light"
     },
     "output_type": "display_data"
    }
   ],
   "source": [
    "data.hist(figsize=(15, 20))\n",
    "plt.show()"
   ]
  },
  {
   "cell_type": "markdown",
   "id": "ff601e51",
   "metadata": {},
   "source": [
    "<div class=\"alert alert-block alert-warning\">\n",
    "<b>🔁Комментарий ревьюера:</b> \n",
    "    \n",
    "Чтобы перед графиком не выводился длинный список с параметрами, можно просто добавить строку `plt.show()` после строки построения графика.  </div>"
   ]
  },
  {
   "cell_type": "markdown",
   "id": "a9f80e94",
   "metadata": {},
   "source": [
    "<div class=\"alert alert-block alert-success\">\n",
    "<b>✅Комментарий ревьюера 2:</b> Отлично, исправлено!👍  </div>"
   ]
  },
  {
   "cell_type": "markdown",
   "metadata": {},
   "source": [
    "- Есть достаточно много пропущеных значений. Возможно не все они нам во вред. Возможно что-то можно будет оставить.\n",
    "- В некоторых колонках можно отбросить десятые доли и перевести данные в целые числа.\n",
    "- Колонку с датами нужно перевести в формат даты.\n",
    "- Колонку с городами проверить на наличие повторов, провести лемматизацию и заменить значения."
   ]
  },
  {
   "cell_type": "markdown",
   "id": "155aac46",
   "metadata": {},
   "source": [
    "<div class=\"alert alert-block alert-danger\">\n",
    "<b>❌Комментарий ревьюера:</b> \n",
    "    \n",
    "После каждого пункта нужно делать промежуточный вывод.\n",
    "    \n",
    "Что мы можем сказать о данных после первичного знакомства  с ними? Стоит отметить объем и полноту данных, корректность наименования столбцов и соответствие типов данных.\n",
    "\n",
    "</div>"
   ]
  },
  {
   "cell_type": "markdown",
   "id": "a9f80e94",
   "metadata": {},
   "source": [
    "<div class=\"alert alert-block alert-success\">\n",
    "<b>✅Комментарий ревьюера 2:</b> Отлично, исправлено!👍  </div>"
   ]
  },
  {
   "cell_type": "markdown",
   "metadata": {
    "id": "-O5NtivEAwb9"
   },
   "source": [
    "### Выполните предобработку данных"
   ]
  },
  {
   "cell_type": "markdown",
   "metadata": {},
   "source": [
    "Незаполненные пользователями поля:\n",
    "\n",
    "\n",
    "Опциональные поля (balcony, floors_total, ceiling_height)\n",
    "\n",
    "Неприменимые поля (не все квартиры имеют кухню, поэтому kitchen_area может быть пропущена)\n",
    "\n",
    "\n",
    "Неизвестные значения:\n",
    "\n",
    "\n",
    "Расстояния до объектов (parks_nearest, ponds_nearest) могут быть неизвестны\n",
    "\n",
    "Местоположение (locality_name) может быть не указано\n",
    "\n",
    "\n",
    "Удаление при предобработке:\n",
    "\n",
    "\n",
    "Пропуски могут появиться, если удалять строки с некорректными значениями"
   ]
  },
  {
   "cell_type": "code",
   "execution_count": 6,
   "metadata": {
    "id": "7v3vAeTuAwb-"
   },
   "outputs": [],
   "source": [
    "fill_zero_columns = ['balcony', 'parks_around3000', 'ponds_around3000']\n",
    "\n",
    "# Заполнение нулями выбранных столбцов \n",
    "data[fill_zero_columns] = data[fill_zero_columns].fillna(0)"
   ]
  },
  {
   "cell_type": "code",
   "execution_count": 7,
   "metadata": {},
   "outputs": [],
   "source": [
    "# Заполнение пропусков медианой в столбцах расстояний\n",
    "#for col in ['airports_nearest', 'cityCenters_nearest', 'parks_nearest', 'ponds_nearest']:\n",
    "#    data[col] = data[col].fillna(data[col].median())"
   ]
  },
  {
   "cell_type": "markdown",
   "id": "1f22c72d",
   "metadata": {},
   "source": [
    "<div class=\"alert alert-block alert-danger\">\n",
    "<b>❌Комментарий ревьюера:</b> \n",
    "    \n",
    "Заполнять пропуски нулями в столбцах с расстояниями некорректно. Ведь тогда получается, что объект будет находится в непосредственной близости от квартиры.\n",
    "\n",
    "</div>"
   ]
  },
  {
   "cell_type": "markdown",
   "metadata": {},
   "source": [
    "Я заполнил медианой"
   ]
  },
  {
   "cell_type": "markdown",
   "metadata": {},
   "source": [
    "Закомментировал строчки кода, сразу поменялись среднее по столбцам, медиана осталась прежней(аномалиям не подвержена)"
   ]
  },
  {
   "cell_type": "markdown",
   "id": "71fe6601",
   "metadata": {},
   "source": [
    "<div class=\"alert alert-block alert-danger\">\n",
    "<b>❌Комментарий ревьюера 2:</b> \n",
    "    \n",
    "Обрати внимание на то, что эти значения  получены автоматически на основе картографических данных. А если данные не получены, то скорее всего объекта рядом нет (пруды и парки) или до объекта слишком далеко и эту информацию нельзя получить (а значит она и не будет иметь значения при исследовании)\n",
    "    \n",
    "А заполняя пропуски медианой, мы переносим квартиры и сажаем рядом парки и выкапываем пруды)) Это неправильно. Лучше в таком случае оставить пропуски как есть.\n",
    "    \n",
    "Аэропорты тоже есть не во всех населенных пунктах и не все они являются городами, чтобы для них определять расстояние до центра.\n",
    "\n",
    "</div>"
   ]
  },
  {
   "cell_type": "markdown",
   "id": "a9f80e94",
   "metadata": {},
   "source": [
    "<div class=\"alert alert-block alert-success\">\n",
    "<b>✅Комментарий ревьюера 3:</b> Отлично, исправлено!👍  </div>"
   ]
  },
  {
   "cell_type": "code",
   "execution_count": 8,
   "metadata": {},
   "outputs": [],
   "source": [
    "#mean_fill_columns = ['floors_total', 'living_area', 'kitchen_area']\n",
    "#for col in mean_fill_columns:\n",
    "#    data[col] = data[col].fillna(data[col].mean())\n"
   ]
  },
  {
   "cell_type": "code",
   "execution_count": 9,
   "metadata": {},
   "outputs": [],
   "source": [
    "# Вычисление коэффициентов жилой площади и площади кухни\n",
    "living_area_ratio = data.loc[data['living_area'] + data['kitchen_area'] <= data['total_area'], 'living_area'].mean() / data.loc[data['living_area'] + data['kitchen_area'] <= data['total_area'], 'total_area'].mean()\n",
    "kitchen_area_ratio = data.loc[data['living_area'] + data['kitchen_area'] <= data['total_area'], 'kitchen_area'].mean() / data.loc[data['living_area'] + data['kitchen_area'] <= data['total_area'], 'total_area'].mean()\n",
    "\n",
    "# Заполнение пропусков в жилой площади и площади кухни на основе общей площади\n",
    "data.loc[data['living_area'].isna(), 'living_area'] = data.loc[data['living_area'].isna(), 'total_area'] * living_area_ratio\n",
    "data.loc[data['kitchen_area'].isna(), 'kitchen_area'] = data.loc[data['kitchen_area'].isna(), 'total_area'] * kitchen_area_ratio"
   ]
  },
  {
   "cell_type": "code",
   "execution_count": 10,
   "metadata": {},
   "outputs": [],
   "source": [
    "# Заполнение пропусков в высоте потолков медианным значением\n",
    "data['ceiling_height'] = data['ceiling_height'].fillna(data['ceiling_height'].median())"
   ]
  },
  {
   "cell_type": "code",
   "execution_count": 11,
   "id": "29284fb7",
   "metadata": {},
   "outputs": [
    {
     "data": {
      "text/plain": [
       "0"
      ]
     },
     "metadata": {},
     "output_type": "display_data"
    },
    {
     "data": {
      "text/plain": [
       "118"
      ]
     },
     "execution_count": 11,
     "metadata": {},
     "output_type": "execute_result"
    }
   ],
   "source": [
    "# код ревьюера\n",
    "display(data[data['floors_total'] < data['floor']].shape[0])\n",
    "data[data['total_area'] < data['living_area'] + data['kitchen_area']].shape[0]"
   ]
  },
  {
   "cell_type": "markdown",
   "metadata": {},
   "source": [
    "После добавления коэффициента, остались 118 квартир с аномальными значениями, я решил пересчитать жилую площадь и площадь кухни на основе общей площади, надеюсь, что это правильно"
   ]
  },
  {
   "cell_type": "code",
   "execution_count": 12,
   "metadata": {},
   "outputs": [
    {
     "name": "stdout",
     "output_type": "stream",
     "text": [
      "Аномальные значения: 118\n"
     ]
    }
   ],
   "source": [
    "# Идентификация аномальных строк\n",
    "anomaly_rows = data[data['living_area'] + data['kitchen_area'] > data['total_area']]\n",
    "\n",
    "# Печать количества аномальных строк\n",
    "print(f\"Аномальные значения: {len(anomaly_rows)}\")"
   ]
  },
  {
   "cell_type": "code",
   "execution_count": 13,
   "metadata": {},
   "outputs": [],
   "source": [
    "# Стратегия: Пересчет жилой площади и площади кухни на основе общей площади\n",
    "data.loc[anomaly_rows.index, 'living_area'] = data.loc[anomaly_rows.index, 'total_area'] * living_area_ratio\n",
    "data.loc[anomaly_rows.index, 'kitchen_area'] = data.loc[anomaly_rows.index, 'total_area'] * kitchen_area_ratio"
   ]
  },
  {
   "cell_type": "code",
   "execution_count": 14,
   "metadata": {},
   "outputs": [
    {
     "data": {
      "text/html": [
       "<div>\n",
       "<style scoped>\n",
       "    .dataframe tbody tr th:only-of-type {\n",
       "        vertical-align: middle;\n",
       "    }\n",
       "\n",
       "    .dataframe tbody tr th {\n",
       "        vertical-align: top;\n",
       "    }\n",
       "\n",
       "    .dataframe thead th {\n",
       "        text-align: right;\n",
       "    }\n",
       "</style>\n",
       "<table border=\"1\" class=\"dataframe\">\n",
       "  <thead>\n",
       "    <tr style=\"text-align: right;\">\n",
       "      <th></th>\n",
       "      <th>total_images</th>\n",
       "      <th>last_price</th>\n",
       "      <th>total_area</th>\n",
       "      <th>first_day_exposition</th>\n",
       "      <th>rooms</th>\n",
       "      <th>ceiling_height</th>\n",
       "      <th>floors_total</th>\n",
       "      <th>living_area</th>\n",
       "      <th>floor</th>\n",
       "      <th>is_apartment</th>\n",
       "      <th>...</th>\n",
       "      <th>kitchen_area</th>\n",
       "      <th>balcony</th>\n",
       "      <th>locality_name</th>\n",
       "      <th>airports_nearest</th>\n",
       "      <th>cityCenters_nearest</th>\n",
       "      <th>parks_around3000</th>\n",
       "      <th>parks_nearest</th>\n",
       "      <th>ponds_around3000</th>\n",
       "      <th>ponds_nearest</th>\n",
       "      <th>days_exposition</th>\n",
       "    </tr>\n",
       "  </thead>\n",
       "  <tbody>\n",
       "  </tbody>\n",
       "</table>\n",
       "<p>0 rows × 22 columns</p>\n",
       "</div>"
      ],
      "text/plain": [
       "Empty DataFrame\n",
       "Columns: [total_images, last_price, total_area, first_day_exposition, rooms, ceiling_height, floors_total, living_area, floor, is_apartment, studio, open_plan, kitchen_area, balcony, locality_name, airports_nearest, cityCenters_nearest, parks_around3000, parks_nearest, ponds_around3000, ponds_nearest, days_exposition]\n",
       "Index: []\n",
       "\n",
       "[0 rows x 22 columns]"
      ]
     },
     "execution_count": 14,
     "metadata": {},
     "output_type": "execute_result"
    }
   ],
   "source": [
    "data.loc[data['total_area'] < data['living_area'] + data['kitchen_area']]"
   ]
  },
  {
   "cell_type": "code",
   "execution_count": null,
   "metadata": {},
   "outputs": [],
   "source": []
  },
  {
   "cell_type": "markdown",
   "id": "714e3a31",
   "metadata": {},
   "source": [
    "<div class=\"alert alert-block alert-warning\">\n",
    "<b>🔁Комментарий ревьюера:</b> \n",
    "    \n",
    "Пропуски в высоте потолка лучше заполнить медианой, она менее чувствительна к аномальным значениям, а они у нас есть.</div>"
   ]
  },
  {
   "cell_type": "markdown",
   "id": "a9f80e94",
   "metadata": {},
   "source": [
    "<div class=\"alert alert-block alert-success\">\n",
    "<b>✅Комментарий ревьюера 2:</b> Отлично, исправлено!👍  </div>"
   ]
  },
  {
   "cell_type": "markdown",
   "id": "b643d149",
   "metadata": {
    "id": "5766e785"
   },
   "source": [
    "<div class=\"alert alert-block alert-danger\">\n",
    "<b>❌Комментарий ревьюера:</b> \n",
    "    \n",
    " - У 34 квартир этаж расположения больше общего количества этажей в доме. Корректно ли такое заполнение? Пропусков не так много, их можно исключить или оставить как есть.\n",
    " - Получили 1077 квартир, у которых сумма жилой площади и площади кухни больше общей. Такое заполнение пропусков в площадях некорректно. Пропуски можно заполнить так: сначала вычисляем среднее отношение жилой площади к общей, это будет наш коэффициент жилой площади. Далее в строках с пропусками умножаем общую площадь на этот коэффициент, получая жилую площадь. Подобным образом можно заполнить пропуски и в столбце с площадью кухни.\n",
    "    \n",
    "</div>"
   ]
  },
  {
   "cell_type": "markdown",
   "id": "a9f80e94",
   "metadata": {},
   "source": [
    "<div class=\"alert alert-block alert-success\">\n",
    "<b>✅Комментарий ревьюера 2:</b> Отлично, исправлено!👍  </div>"
   ]
  },
  {
   "cell_type": "code",
   "execution_count": 15,
   "metadata": {},
   "outputs": [],
   "source": [
    "data['is_apartment'] = data['is_apartment'].astype(bool)\n",
    "data['is_apartment'] = data['is_apartment'].fillna(False)"
   ]
  },
  {
   "cell_type": "markdown",
   "metadata": {},
   "source": [
    "Я просто удалил эту ячейку.(Хотел закомментировать ее, но поспешил)"
   ]
  },
  {
   "cell_type": "markdown",
   "id": "1f22c72d",
   "metadata": {},
   "source": [
    "<div class=\"alert alert-block alert-danger\">\n",
    "<b>❌Комментарий ревьюера:</b> \n",
    "    \n",
    "Заполнять пропуски в количестве дней размещения некорректно, они означают ,что объявления были активны на момент выгрузки, то есть квартиры не были проданы. А заполняя пропуски мы делаем эти квартиры \"проданными\", это повлияет на результаты исследования.\n",
    "\n",
    "</div>"
   ]
  },
  {
   "cell_type": "markdown",
   "id": "a9f80e94",
   "metadata": {},
   "source": [
    "<div class=\"alert alert-block alert-success\">\n",
    "<b>✅Комментарий ревьюера 2:</b> Отлично, исправлено!👍  </div>"
   ]
  },
  {
   "cell_type": "code",
   "execution_count": 16,
   "metadata": {},
   "outputs": [],
   "source": [
    "data['locality_name'] = data['locality_name'].fillna('Неизвестно')"
   ]
  },
  {
   "cell_type": "code",
   "execution_count": 17,
   "metadata": {},
   "outputs": [],
   "source": [
    "data['first_day_exposition'] = pd.to_datetime(data['first_day_exposition'],format='%Y-%m-%dT%H:%M:%S')"
   ]
  },
  {
   "cell_type": "code",
   "execution_count": 18,
   "metadata": {},
   "outputs": [
    {
     "data": {
      "text/html": [
       "<div>\n",
       "<style scoped>\n",
       "    .dataframe tbody tr th:only-of-type {\n",
       "        vertical-align: middle;\n",
       "    }\n",
       "\n",
       "    .dataframe tbody tr th {\n",
       "        vertical-align: top;\n",
       "    }\n",
       "\n",
       "    .dataframe thead th {\n",
       "        text-align: right;\n",
       "    }\n",
       "</style>\n",
       "<table border=\"1\" class=\"dataframe\">\n",
       "  <thead>\n",
       "    <tr style=\"text-align: right;\">\n",
       "      <th></th>\n",
       "      <th>total_images</th>\n",
       "      <th>last_price</th>\n",
       "      <th>total_area</th>\n",
       "      <th>first_day_exposition</th>\n",
       "      <th>rooms</th>\n",
       "      <th>ceiling_height</th>\n",
       "      <th>floors_total</th>\n",
       "      <th>living_area</th>\n",
       "      <th>floor</th>\n",
       "      <th>is_apartment</th>\n",
       "      <th>...</th>\n",
       "      <th>kitchen_area</th>\n",
       "      <th>balcony</th>\n",
       "      <th>locality_name</th>\n",
       "      <th>airports_nearest</th>\n",
       "      <th>cityCenters_nearest</th>\n",
       "      <th>parks_around3000</th>\n",
       "      <th>parks_nearest</th>\n",
       "      <th>ponds_around3000</th>\n",
       "      <th>ponds_nearest</th>\n",
       "      <th>days_exposition</th>\n",
       "    </tr>\n",
       "  </thead>\n",
       "  <tbody>\n",
       "    <tr>\n",
       "      <th>0</th>\n",
       "      <td>20</td>\n",
       "      <td>13000000.0</td>\n",
       "      <td>108.0</td>\n",
       "      <td>2019-03-07</td>\n",
       "      <td>3</td>\n",
       "      <td>2.70</td>\n",
       "      <td>16.0</td>\n",
       "      <td>51.000000</td>\n",
       "      <td>8</td>\n",
       "      <td>True</td>\n",
       "      <td>...</td>\n",
       "      <td>25.000000</td>\n",
       "      <td>0.0</td>\n",
       "      <td>Санкт-Петербург</td>\n",
       "      <td>18863.0</td>\n",
       "      <td>16028.0</td>\n",
       "      <td>1.0</td>\n",
       "      <td>482.0</td>\n",
       "      <td>2.0</td>\n",
       "      <td>755.0</td>\n",
       "      <td>NaN</td>\n",
       "    </tr>\n",
       "    <tr>\n",
       "      <th>1</th>\n",
       "      <td>7</td>\n",
       "      <td>3350000.0</td>\n",
       "      <td>40.4</td>\n",
       "      <td>2018-12-04</td>\n",
       "      <td>1</td>\n",
       "      <td>2.65</td>\n",
       "      <td>11.0</td>\n",
       "      <td>18.600000</td>\n",
       "      <td>1</td>\n",
       "      <td>True</td>\n",
       "      <td>...</td>\n",
       "      <td>11.000000</td>\n",
       "      <td>2.0</td>\n",
       "      <td>посёлок Шушары</td>\n",
       "      <td>12817.0</td>\n",
       "      <td>18603.0</td>\n",
       "      <td>0.0</td>\n",
       "      <td>NaN</td>\n",
       "      <td>0.0</td>\n",
       "      <td>NaN</td>\n",
       "      <td>81.0</td>\n",
       "    </tr>\n",
       "    <tr>\n",
       "      <th>2</th>\n",
       "      <td>10</td>\n",
       "      <td>5196000.0</td>\n",
       "      <td>56.0</td>\n",
       "      <td>2015-08-20</td>\n",
       "      <td>2</td>\n",
       "      <td>2.65</td>\n",
       "      <td>5.0</td>\n",
       "      <td>34.300000</td>\n",
       "      <td>4</td>\n",
       "      <td>True</td>\n",
       "      <td>...</td>\n",
       "      <td>8.300000</td>\n",
       "      <td>0.0</td>\n",
       "      <td>Санкт-Петербург</td>\n",
       "      <td>21741.0</td>\n",
       "      <td>13933.0</td>\n",
       "      <td>1.0</td>\n",
       "      <td>90.0</td>\n",
       "      <td>2.0</td>\n",
       "      <td>574.0</td>\n",
       "      <td>558.0</td>\n",
       "    </tr>\n",
       "    <tr>\n",
       "      <th>3</th>\n",
       "      <td>0</td>\n",
       "      <td>64900000.0</td>\n",
       "      <td>159.0</td>\n",
       "      <td>2015-07-24</td>\n",
       "      <td>3</td>\n",
       "      <td>2.65</td>\n",
       "      <td>14.0</td>\n",
       "      <td>90.875579</td>\n",
       "      <td>9</td>\n",
       "      <td>True</td>\n",
       "      <td>...</td>\n",
       "      <td>27.569525</td>\n",
       "      <td>0.0</td>\n",
       "      <td>Санкт-Петербург</td>\n",
       "      <td>28098.0</td>\n",
       "      <td>6800.0</td>\n",
       "      <td>2.0</td>\n",
       "      <td>84.0</td>\n",
       "      <td>3.0</td>\n",
       "      <td>234.0</td>\n",
       "      <td>424.0</td>\n",
       "    </tr>\n",
       "    <tr>\n",
       "      <th>4</th>\n",
       "      <td>2</td>\n",
       "      <td>10000000.0</td>\n",
       "      <td>100.0</td>\n",
       "      <td>2018-06-19</td>\n",
       "      <td>2</td>\n",
       "      <td>3.03</td>\n",
       "      <td>14.0</td>\n",
       "      <td>32.000000</td>\n",
       "      <td>13</td>\n",
       "      <td>True</td>\n",
       "      <td>...</td>\n",
       "      <td>41.000000</td>\n",
       "      <td>0.0</td>\n",
       "      <td>Санкт-Петербург</td>\n",
       "      <td>31856.0</td>\n",
       "      <td>8098.0</td>\n",
       "      <td>2.0</td>\n",
       "      <td>112.0</td>\n",
       "      <td>1.0</td>\n",
       "      <td>48.0</td>\n",
       "      <td>121.0</td>\n",
       "    </tr>\n",
       "  </tbody>\n",
       "</table>\n",
       "<p>5 rows × 22 columns</p>\n",
       "</div>"
      ],
      "text/plain": [
       "   total_images  last_price  total_area first_day_exposition  rooms  \\\n",
       "0            20  13000000.0       108.0           2019-03-07      3   \n",
       "1             7   3350000.0        40.4           2018-12-04      1   \n",
       "2            10   5196000.0        56.0           2015-08-20      2   \n",
       "3             0  64900000.0       159.0           2015-07-24      3   \n",
       "4             2  10000000.0       100.0           2018-06-19      2   \n",
       "\n",
       "   ceiling_height  floors_total  living_area  floor  is_apartment  ...  \\\n",
       "0            2.70          16.0    51.000000      8          True  ...   \n",
       "1            2.65          11.0    18.600000      1          True  ...   \n",
       "2            2.65           5.0    34.300000      4          True  ...   \n",
       "3            2.65          14.0    90.875579      9          True  ...   \n",
       "4            3.03          14.0    32.000000     13          True  ...   \n",
       "\n",
       "   kitchen_area  balcony    locality_name  airports_nearest  \\\n",
       "0     25.000000      0.0  Санкт-Петербург           18863.0   \n",
       "1     11.000000      2.0   посёлок Шушары           12817.0   \n",
       "2      8.300000      0.0  Санкт-Петербург           21741.0   \n",
       "3     27.569525      0.0  Санкт-Петербург           28098.0   \n",
       "4     41.000000      0.0  Санкт-Петербург           31856.0   \n",
       "\n",
       "  cityCenters_nearest  parks_around3000  parks_nearest  ponds_around3000  \\\n",
       "0             16028.0               1.0          482.0               2.0   \n",
       "1             18603.0               0.0            NaN               0.0   \n",
       "2             13933.0               1.0           90.0               2.0   \n",
       "3              6800.0               2.0           84.0               3.0   \n",
       "4              8098.0               2.0          112.0               1.0   \n",
       "\n",
       "   ponds_nearest  days_exposition  \n",
       "0          755.0              NaN  \n",
       "1            NaN             81.0  \n",
       "2          574.0            558.0  \n",
       "3          234.0            424.0  \n",
       "4           48.0            121.0  \n",
       "\n",
       "[5 rows x 22 columns]"
      ]
     },
     "execution_count": 18,
     "metadata": {},
     "output_type": "execute_result"
    }
   ],
   "source": [
    "data.head()"
   ]
  },
  {
   "cell_type": "code",
   "execution_count": 19,
   "metadata": {},
   "outputs": [
    {
     "name": "stdout",
     "output_type": "stream",
     "text": [
      "<class 'pandas.core.frame.DataFrame'>\n",
      "RangeIndex: 23699 entries, 0 to 23698\n",
      "Data columns (total 22 columns):\n",
      " #   Column                Non-Null Count  Dtype         \n",
      "---  ------                --------------  -----         \n",
      " 0   total_images          23699 non-null  int64         \n",
      " 1   last_price            23699 non-null  float64       \n",
      " 2   total_area            23699 non-null  float64       \n",
      " 3   first_day_exposition  23699 non-null  datetime64[ns]\n",
      " 4   rooms                 23699 non-null  int64         \n",
      " 5   ceiling_height        23699 non-null  float64       \n",
      " 6   floors_total          23613 non-null  float64       \n",
      " 7   living_area           23699 non-null  float64       \n",
      " 8   floor                 23699 non-null  int64         \n",
      " 9   is_apartment          23699 non-null  bool          \n",
      " 10  studio                23699 non-null  bool          \n",
      " 11  open_plan             23699 non-null  bool          \n",
      " 12  kitchen_area          23699 non-null  float64       \n",
      " 13  balcony               23699 non-null  float64       \n",
      " 14  locality_name         23699 non-null  object        \n",
      " 15  airports_nearest      18157 non-null  float64       \n",
      " 16  cityCenters_nearest   18180 non-null  float64       \n",
      " 17  parks_around3000      23699 non-null  float64       \n",
      " 18  parks_nearest         8079 non-null   float64       \n",
      " 19  ponds_around3000      23699 non-null  float64       \n",
      " 20  ponds_nearest         9110 non-null   float64       \n",
      " 21  days_exposition       20518 non-null  float64       \n",
      "dtypes: bool(3), datetime64[ns](1), float64(14), int64(3), object(1)\n",
      "memory usage: 3.5+ MB\n"
     ]
    }
   ],
   "source": [
    "data.info()"
   ]
  },
  {
   "cell_type": "markdown",
   "metadata": {},
   "source": [
    "Тип данных важно привести к подходящему для дальнейшей обработки:\n",
    "\n",
    "\n",
    "Правильный тип обеспечит корректные вычисления и сравнения\n",
    "\n",
    "Это позволит применять специфичные для типа операции (например, работа с датами)\n",
    "\n",
    "Это сэкономит память (например, булев тип занимает меньше места, чем строковый)\n",
    "\n",
    "Это улучшит читаемость и ясность кода"
   ]
  },
  {
   "cell_type": "code",
   "execution_count": 20,
   "metadata": {},
   "outputs": [],
   "source": [
    "data['days_exposition'] = data['days_exposition'].fillna(data['days_exposition'].median())"
   ]
  },
  {
   "cell_type": "code",
   "execution_count": 21,
   "metadata": {},
   "outputs": [
    {
     "name": "stdout",
     "output_type": "stream",
     "text": [
      "365\n",
      "['Санкт-Петербург' 'посёлок Шушары' 'городской посёлок Янино-1'\n",
      " 'посёлок Парголово' 'посёлок Мурино' 'Ломоносов' 'Сертолово' 'Петергоф'\n",
      " 'Пушкин' 'деревня Кудрово' 'Коммунар' 'Колпино'\n",
      " 'поселок городского типа Красный Бор' 'Гатчина' 'поселок Мурино'\n",
      " 'деревня Фёдоровское' 'Выборг' 'Кронштадт' 'Кировск'\n",
      " 'деревня Новое Девяткино' 'посёлок Металлострой'\n",
      " 'посёлок городского типа Лебяжье' 'посёлок городского типа Сиверский'\n",
      " 'поселок Молодцово' 'поселок городского типа Кузьмоловский'\n",
      " 'садовое товарищество Новая Ропша' 'Павловск' 'деревня Пикколово'\n",
      " 'Всеволожск' 'Волхов' 'Кингисепп' 'Приозерск' 'Сестрорецк'\n",
      " 'деревня Куттузи' 'посёлок Аннино' 'поселок городского типа Ефимовский'\n",
      " 'посёлок Плодовое' 'деревня Заклинье' 'поселок Торковичи'\n",
      " 'поселок Первомайское' 'Красное Село' 'посёлок Понтонный' 'Сясьстрой'\n",
      " 'деревня Старая' 'деревня Лесколово' 'посёлок Новый Свет' 'Сланцы'\n",
      " 'село Путилово' 'Ивангород' 'Мурино' 'Шлиссельбург' 'Никольское'\n",
      " 'Зеленогорск' 'Сосновый Бор' 'поселок Новый Свет' 'деревня Оржицы'\n",
      " 'деревня Кальтино' 'Кудрово' 'поселок Романовка' 'посёлок Бугры'\n",
      " 'поселок Бугры' 'поселок городского типа Рощино' 'Кириши' 'Луга'\n",
      " 'Волосово' 'Отрадное' 'село Павлово' 'поселок Оредеж' 'село Копорье'\n",
      " 'посёлок городского типа Красный Бор' 'посёлок Молодёжное' 'Тихвин'\n",
      " 'посёлок Победа' 'деревня Нурма' 'поселок городского типа Синявино'\n",
      " 'Тосно' 'посёлок городского типа Кузьмоловский' 'посёлок Стрельна'\n",
      " 'Бокситогорск' 'посёлок Александровская' 'деревня Лопухинка' 'Пикалёво'\n",
      " 'поселок Терволово' 'поселок городского типа Советский' 'Подпорожье'\n",
      " 'посёлок Петровское' 'посёлок городского типа Токсово' 'поселок Сельцо'\n",
      " 'посёлок городского типа Вырица' 'деревня Кипень' 'деревня Келози'\n",
      " 'деревня Вартемяги' 'посёлок Тельмана' 'поселок Севастьяново'\n",
      " 'городской поселок Большая Ижора' 'Неизвестно'\n",
      " 'городской посёлок Павлово' 'деревня Агалатово' 'посёлок Новогорелово'\n",
      " 'городской посёлок Лесогорский' 'деревня Лаголово' 'поселок Цвелодубово'\n",
      " 'поселок городского типа Рахья' 'поселок городского типа Вырица'\n",
      " 'деревня Белогорка' 'поселок Заводской' 'городской посёлок Новоселье'\n",
      " 'деревня Большие Колпаны' 'деревня Горбунки' 'деревня Батово'\n",
      " 'деревня Заневка' 'деревня Иссад' 'Приморск'\n",
      " 'городской посёлок Фёдоровское' 'деревня Мистолово' 'Новая Ладога'\n",
      " 'поселок Зимитицы' 'поселок Барышево' 'деревня Разметелево'\n",
      " 'поселок городского типа имени Свердлова' 'деревня Пеники'\n",
      " 'поселок Рябово' 'деревня Пудомяги' 'поселок станции Корнево'\n",
      " 'деревня Низино' 'деревня Бегуницы' 'посёлок Поляны'\n",
      " 'городской посёлок Мга' 'поселок Елизаветино'\n",
      " 'посёлок городского типа Кузнечное' 'деревня Колтуши'\n",
      " 'поселок Запорожское' 'посёлок городского типа Рощино'\n",
      " 'деревня Гостилицы' 'деревня Малое Карлино' 'посёлок Мичуринское'\n",
      " 'посёлок городского типа имени Морозова' 'посёлок Песочный'\n",
      " 'посёлок Сосново' 'деревня Аро' 'поселок Ильичёво'\n",
      " 'посёлок городского типа Тайцы' 'деревня Малое Верево' 'деревня Извара'\n",
      " 'поселок станции Вещево' 'село Паша' 'деревня Калитино'\n",
      " 'посёлок городского типа Ульяновка' 'деревня Чудской Бор'\n",
      " 'поселок городского типа Дубровка' 'деревня Мины' 'поселок Войсковицы'\n",
      " 'посёлок городского типа имени Свердлова' 'деревня Коркино'\n",
      " 'посёлок Ропша' 'поселок городского типа Приладожский' 'посёлок Щеглово'\n",
      " 'посёлок Гаврилово' 'Лодейное Поле' 'деревня Рабитицы'\n",
      " 'поселок городского типа Никольский' 'деревня Кузьмолово'\n",
      " 'деревня Малые Колпаны' 'поселок Тельмана' 'посёлок Петро-Славянка'\n",
      " 'городской посёлок Назия' 'посёлок Репино' 'посёлок Ильичёво'\n",
      " 'поселок Углово' 'поселок Старая Малукса' 'садовое товарищество Рахья'\n",
      " 'поселок Аннино' 'поселок Победа' 'деревня Меньково'\n",
      " 'деревня Старые Бегуницы' 'посёлок Сапёрный' 'поселок Семрино'\n",
      " 'поселок Гаврилово' 'поселок Глажево' 'поселок Кобринское'\n",
      " 'деревня Гарболово' 'деревня Юкки' 'поселок станции Приветнинское'\n",
      " 'деревня Мануйлово' 'деревня Пчева' 'поселок Поляны' 'поселок Цвылёво'\n",
      " 'поселок Мельниково' 'посёлок Пудость' 'посёлок Усть-Луга' 'Светогорск'\n",
      " 'Любань' 'поселок Селезнёво' 'поселок городского типа Рябово'\n",
      " 'Каменногорск' 'деревня Кривко' 'поселок Глебычево' 'деревня Парицы'\n",
      " 'поселок Жилпосёлок' 'посёлок городского типа Мга'\n",
      " 'городской поселок Янино-1' 'посёлок Войскорово' 'село Никольское'\n",
      " 'посёлок Терволово' 'поселок Стеклянный' 'посёлок городского типа Важины'\n",
      " 'посёлок Мыза-Ивановка' 'село Русско-Высоцкое'\n",
      " 'поселок городского типа Лебяжье' 'поселок городского типа Форносово'\n",
      " 'село Старая Ладога' 'поселок Житково' 'городской посёлок Виллози'\n",
      " 'деревня Лампово' 'деревня Шпаньково' 'деревня Лаврики' 'посёлок Сумино'\n",
      " 'посёлок Возрождение' 'деревня Старосиверская' 'посёлок Кикерино'\n",
      " 'поселок Возрождение' 'деревня Старое Хинколово' 'посёлок Пригородный'\n",
      " 'посёлок Торфяное' 'городской посёлок Будогощь' 'поселок Суходолье'\n",
      " 'поселок Красная Долина' 'деревня Хапо-Ое'\n",
      " 'поселок городского типа Дружная Горка' 'поселок Лисий Нос'\n",
      " 'деревня Яльгелево' 'посёлок Стеклянный' 'село Рождествено'\n",
      " 'деревня Старополье' 'посёлок Левашово' 'деревня Сяськелево'\n",
      " 'деревня Камышовка'\n",
      " 'садоводческое некоммерческое товарищество Лесная Поляна'\n",
      " 'деревня Хязельки' 'поселок Жилгородок' 'посёлок городского типа Павлово'\n",
      " 'деревня Ялгино' 'поселок Новый Учхоз' 'городской посёлок Рощино'\n",
      " 'поселок Гончарово' 'поселок Почап' 'посёлок Сапёрное'\n",
      " 'посёлок Платформа 69-й километр' 'поселок Каложицы' 'деревня Фалилеево'\n",
      " 'деревня Пельгора' 'поселок городского типа Лесогорский'\n",
      " 'деревня Торошковичи' 'посёлок Белоостров' 'посёлок Алексеевка'\n",
      " 'поселок Серебрянский' 'поселок Лукаши' 'поселок Петровское'\n",
      " 'деревня Щеглово' 'поселок Мичуринское' 'деревня Тарасово'\n",
      " 'поселок Кингисеппский' 'посёлок при железнодорожной станции Вещево'\n",
      " 'поселок Ушаки' 'деревня Котлы' 'деревня Сижно' 'деревня Торосово'\n",
      " 'посёлок Форт Красная Горка' 'поселок городского типа Токсово'\n",
      " 'деревня Новолисино' 'посёлок станции Громово' 'деревня Глинка'\n",
      " 'посёлок Мельниково' 'поселок городского типа Назия'\n",
      " 'деревня Старая Пустошь' 'поселок Коммунары' 'поселок Починок'\n",
      " 'посёлок городского типа Вознесенье' 'деревня Разбегаево'\n",
      " 'посёлок городского типа Рябово' 'поселок Гладкое'\n",
      " 'посёлок при железнодорожной станции Приветнинское' 'поселок Тёсово-4'\n",
      " 'посёлок Жилгородок' 'деревня Бор' 'посёлок Коробицыно'\n",
      " 'деревня Большая Вруда' 'деревня Курковицы' 'посёлок Лисий Нос'\n",
      " 'городской посёлок Советский' 'посёлок Кобралово' 'деревня Суоранда'\n",
      " 'поселок Кобралово' 'поселок городского типа Кондратьево'\n",
      " 'коттеджный поселок Счастье' 'поселок Любань' 'деревня Реброво'\n",
      " 'деревня Зимитицы' 'деревня Тойворово' 'поселок Семиозерье'\n",
      " 'поселок Лесное' 'поселок Совхозный' 'поселок Усть-Луга'\n",
      " 'посёлок Ленинское' 'посёлок Суйда' 'посёлок городского типа Форносово'\n",
      " 'деревня Нижние Осельки' 'посёлок станции Свирь' 'поселок Перово'\n",
      " 'Высоцк' 'поселок Гарболово' 'село Шум' 'поселок Котельский'\n",
      " 'поселок станции Лужайка' 'деревня Большая Пустомержа'\n",
      " 'поселок Красносельское' 'деревня Вахнова Кара' 'деревня Пижма'\n",
      " 'коттеджный поселок Кивеннапа Север' 'поселок Коробицыно'\n",
      " 'поселок Ромашки' 'посёлок Перово' 'деревня Каськово' 'деревня Куровицы'\n",
      " 'посёлок Плоское' 'поселок Сумино'\n",
      " 'поселок городского типа Большая Ижора' 'поселок Кирпичное'\n",
      " 'деревня Ям-Тесово' 'деревня Раздолье' 'деревня Терпилицы'\n",
      " 'посёлок Шугозеро' 'деревня Ваганово' 'поселок Пушное'\n",
      " 'садовое товарищество Садко' 'посёлок Усть-Ижора' 'деревня Выскатка'\n",
      " 'городской посёлок Свирьстрой' 'поселок Громово' 'деревня Кисельня'\n",
      " 'посёлок Старая Малукса' 'деревня Трубников Бор' 'поселок Калитино'\n",
      " 'посёлок Высокоключевой' 'садовое товарищество Приладожский'\n",
      " 'посёлок Пансионат Зелёный Бор' 'деревня Ненимяки'\n",
      " 'поселок Пансионат Зелёный Бор' 'деревня Снегирёвка' 'деревня Рапполово'\n",
      " 'деревня Пустынка' 'поселок Рабитицы' 'деревня Большой Сабск'\n",
      " 'деревня Русско' 'деревня Лупполово' 'деревня Большое Рейзино'\n",
      " 'деревня Малая Романовка' 'поселок Дружноселье' 'поселок Пчевжа'\n",
      " 'поселок Володарское' 'деревня Нижняя' 'коттеджный посёлок Лесное'\n",
      " 'деревня Тихковицы' 'деревня Борисова Грива' 'посёлок Дзержинского']\n"
     ]
    }
   ],
   "source": [
    "unique_names = data['locality_name'].unique()\n",
    "print(len(unique_names))\n",
    "print(unique_names)"
   ]
  },
  {
   "cell_type": "code",
   "execution_count": 22,
   "metadata": {},
   "outputs": [
    {
     "name": "stdout",
     "output_type": "stream",
     "text": [
      "365\n"
     ]
    }
   ],
   "source": [
    "print(len(unique_names))"
   ]
  },
  {
   "cell_type": "markdown",
   "id": "4884fd36",
   "metadata": {},
   "source": [
    "<div class=\"alert alert-block alert-warning\">\n",
    "<b>🔁Комментарий ревьюера:</b> \n",
    "    \n",
    "Количество уникальных значений в столбце можно узнать с помощью метода `nunique()`  </div>"
   ]
  },
  {
   "cell_type": "code",
   "execution_count": 23,
   "metadata": {},
   "outputs": [],
   "source": [
    "data['locality_name'] = (\n",
    "    data['locality_name']\n",
    "    .str.replace('ё', 'е')  # Замена \"ё\" на \"е\"\n",
    "    .str.replace(r'\\b(дер\\.|д\\.|деревня)\\b', 'деревня', regex=True)  # Унификация \"деревня\"\n",
    "    .str.replace(r'\\b(пос\\.|посёлок|поселок)\\b', 'поселок', regex=True)  # Унификация \"поселок\"\n",
    "    .str.replace(r'[-\\s]\\d+$', '', regex=True)  # Удаление уточнений типа \"-1\", \"-2\"\n",
    "    .str.strip()  # Удаление пробелов в начале и конце\n",
    ")"
   ]
  },
  {
   "cell_type": "markdown",
   "metadata": {
    "id": "QCcvyY6YAwb-"
   },
   "source": [
    "### Добавьте в таблицу новые столбцы"
   ]
  },
  {
   "cell_type": "code",
   "execution_count": 24,
   "metadata": {
    "id": "Z8eJek3IAwb-"
   },
   "outputs": [],
   "source": [
    "# Цена квадратного метра\n",
    "data['price_per_sqm'] = (data['last_price'] / data['total_area']).round(2)"
   ]
  },
  {
   "cell_type": "code",
   "execution_count": 25,
   "metadata": {},
   "outputs": [],
   "source": [
    "# День недели публикации\n",
    "data['day_of_week'] = data['first_day_exposition'].dt.dayofweek"
   ]
  },
  {
   "cell_type": "code",
   "execution_count": 26,
   "metadata": {},
   "outputs": [],
   "source": [
    "# Месяц публикации\n",
    "data['month'] = data['first_day_exposition'].dt.month"
   ]
  },
  {
   "cell_type": "code",
   "execution_count": 27,
   "metadata": {},
   "outputs": [],
   "source": [
    "data['year'] = data['first_day_exposition'].dt.year"
   ]
  },
  {
   "cell_type": "code",
   "execution_count": 28,
   "metadata": {},
   "outputs": [],
   "source": [
    "# Тип этажа\n",
    "data['floor_type'] = pd.Series('другой', index=data.index)\n",
    "data.loc[data['floor'] == 1, 'floor_type'] = 'первый'\n",
    "data.loc[data['floor'] == data['floors_total'], 'floor_type'] = 'последний'"
   ]
  },
  {
   "cell_type": "code",
   "execution_count": 29,
   "metadata": {},
   "outputs": [],
   "source": [
    "# Расстояние до центра в километрах\n",
    "data['distance_to_center'] = (data['cityCenters_nearest'] / 1000).round(0)"
   ]
  },
  {
   "cell_type": "code",
   "execution_count": 30,
   "metadata": {},
   "outputs": [
    {
     "data": {
      "text/html": [
       "<div>\n",
       "<style scoped>\n",
       "    .dataframe tbody tr th:only-of-type {\n",
       "        vertical-align: middle;\n",
       "    }\n",
       "\n",
       "    .dataframe tbody tr th {\n",
       "        vertical-align: top;\n",
       "    }\n",
       "\n",
       "    .dataframe thead th {\n",
       "        text-align: right;\n",
       "    }\n",
       "</style>\n",
       "<table border=\"1\" class=\"dataframe\">\n",
       "  <thead>\n",
       "    <tr style=\"text-align: right;\">\n",
       "      <th></th>\n",
       "      <th>total_images</th>\n",
       "      <th>last_price</th>\n",
       "      <th>total_area</th>\n",
       "      <th>first_day_exposition</th>\n",
       "      <th>rooms</th>\n",
       "      <th>ceiling_height</th>\n",
       "      <th>floors_total</th>\n",
       "      <th>living_area</th>\n",
       "      <th>floor</th>\n",
       "      <th>is_apartment</th>\n",
       "      <th>...</th>\n",
       "      <th>parks_nearest</th>\n",
       "      <th>ponds_around3000</th>\n",
       "      <th>ponds_nearest</th>\n",
       "      <th>days_exposition</th>\n",
       "      <th>price_per_sqm</th>\n",
       "      <th>day_of_week</th>\n",
       "      <th>month</th>\n",
       "      <th>year</th>\n",
       "      <th>floor_type</th>\n",
       "      <th>distance_to_center</th>\n",
       "    </tr>\n",
       "  </thead>\n",
       "  <tbody>\n",
       "    <tr>\n",
       "      <th>0</th>\n",
       "      <td>20</td>\n",
       "      <td>13000000.0</td>\n",
       "      <td>108.00</td>\n",
       "      <td>2019-03-07</td>\n",
       "      <td>3</td>\n",
       "      <td>2.70</td>\n",
       "      <td>16.0</td>\n",
       "      <td>51.000000</td>\n",
       "      <td>8</td>\n",
       "      <td>True</td>\n",
       "      <td>...</td>\n",
       "      <td>482.0</td>\n",
       "      <td>2.0</td>\n",
       "      <td>755.0</td>\n",
       "      <td>95.0</td>\n",
       "      <td>120370.37</td>\n",
       "      <td>3</td>\n",
       "      <td>3</td>\n",
       "      <td>2019</td>\n",
       "      <td>другой</td>\n",
       "      <td>16.0</td>\n",
       "    </tr>\n",
       "    <tr>\n",
       "      <th>1</th>\n",
       "      <td>7</td>\n",
       "      <td>3350000.0</td>\n",
       "      <td>40.40</td>\n",
       "      <td>2018-12-04</td>\n",
       "      <td>1</td>\n",
       "      <td>2.65</td>\n",
       "      <td>11.0</td>\n",
       "      <td>18.600000</td>\n",
       "      <td>1</td>\n",
       "      <td>True</td>\n",
       "      <td>...</td>\n",
       "      <td>NaN</td>\n",
       "      <td>0.0</td>\n",
       "      <td>NaN</td>\n",
       "      <td>81.0</td>\n",
       "      <td>82920.79</td>\n",
       "      <td>1</td>\n",
       "      <td>12</td>\n",
       "      <td>2018</td>\n",
       "      <td>первый</td>\n",
       "      <td>19.0</td>\n",
       "    </tr>\n",
       "    <tr>\n",
       "      <th>2</th>\n",
       "      <td>10</td>\n",
       "      <td>5196000.0</td>\n",
       "      <td>56.00</td>\n",
       "      <td>2015-08-20</td>\n",
       "      <td>2</td>\n",
       "      <td>2.65</td>\n",
       "      <td>5.0</td>\n",
       "      <td>34.300000</td>\n",
       "      <td>4</td>\n",
       "      <td>True</td>\n",
       "      <td>...</td>\n",
       "      <td>90.0</td>\n",
       "      <td>2.0</td>\n",
       "      <td>574.0</td>\n",
       "      <td>558.0</td>\n",
       "      <td>92785.71</td>\n",
       "      <td>3</td>\n",
       "      <td>8</td>\n",
       "      <td>2015</td>\n",
       "      <td>другой</td>\n",
       "      <td>14.0</td>\n",
       "    </tr>\n",
       "    <tr>\n",
       "      <th>3</th>\n",
       "      <td>0</td>\n",
       "      <td>64900000.0</td>\n",
       "      <td>159.00</td>\n",
       "      <td>2015-07-24</td>\n",
       "      <td>3</td>\n",
       "      <td>2.65</td>\n",
       "      <td>14.0</td>\n",
       "      <td>90.875579</td>\n",
       "      <td>9</td>\n",
       "      <td>True</td>\n",
       "      <td>...</td>\n",
       "      <td>84.0</td>\n",
       "      <td>3.0</td>\n",
       "      <td>234.0</td>\n",
       "      <td>424.0</td>\n",
       "      <td>408176.10</td>\n",
       "      <td>4</td>\n",
       "      <td>7</td>\n",
       "      <td>2015</td>\n",
       "      <td>другой</td>\n",
       "      <td>7.0</td>\n",
       "    </tr>\n",
       "    <tr>\n",
       "      <th>4</th>\n",
       "      <td>2</td>\n",
       "      <td>10000000.0</td>\n",
       "      <td>100.00</td>\n",
       "      <td>2018-06-19</td>\n",
       "      <td>2</td>\n",
       "      <td>3.03</td>\n",
       "      <td>14.0</td>\n",
       "      <td>32.000000</td>\n",
       "      <td>13</td>\n",
       "      <td>True</td>\n",
       "      <td>...</td>\n",
       "      <td>112.0</td>\n",
       "      <td>1.0</td>\n",
       "      <td>48.0</td>\n",
       "      <td>121.0</td>\n",
       "      <td>100000.00</td>\n",
       "      <td>1</td>\n",
       "      <td>6</td>\n",
       "      <td>2018</td>\n",
       "      <td>другой</td>\n",
       "      <td>8.0</td>\n",
       "    </tr>\n",
       "    <tr>\n",
       "      <th>...</th>\n",
       "      <td>...</td>\n",
       "      <td>...</td>\n",
       "      <td>...</td>\n",
       "      <td>...</td>\n",
       "      <td>...</td>\n",
       "      <td>...</td>\n",
       "      <td>...</td>\n",
       "      <td>...</td>\n",
       "      <td>...</td>\n",
       "      <td>...</td>\n",
       "      <td>...</td>\n",
       "      <td>...</td>\n",
       "      <td>...</td>\n",
       "      <td>...</td>\n",
       "      <td>...</td>\n",
       "      <td>...</td>\n",
       "      <td>...</td>\n",
       "      <td>...</td>\n",
       "      <td>...</td>\n",
       "      <td>...</td>\n",
       "      <td>...</td>\n",
       "    </tr>\n",
       "    <tr>\n",
       "      <th>23694</th>\n",
       "      <td>9</td>\n",
       "      <td>9700000.0</td>\n",
       "      <td>133.81</td>\n",
       "      <td>2017-03-21</td>\n",
       "      <td>3</td>\n",
       "      <td>3.70</td>\n",
       "      <td>5.0</td>\n",
       "      <td>73.300000</td>\n",
       "      <td>3</td>\n",
       "      <td>True</td>\n",
       "      <td>...</td>\n",
       "      <td>796.0</td>\n",
       "      <td>3.0</td>\n",
       "      <td>381.0</td>\n",
       "      <td>95.0</td>\n",
       "      <td>72490.85</td>\n",
       "      <td>1</td>\n",
       "      <td>3</td>\n",
       "      <td>2017</td>\n",
       "      <td>другой</td>\n",
       "      <td>4.0</td>\n",
       "    </tr>\n",
       "    <tr>\n",
       "      <th>23695</th>\n",
       "      <td>14</td>\n",
       "      <td>3100000.0</td>\n",
       "      <td>59.00</td>\n",
       "      <td>2018-01-15</td>\n",
       "      <td>3</td>\n",
       "      <td>2.65</td>\n",
       "      <td>5.0</td>\n",
       "      <td>38.000000</td>\n",
       "      <td>4</td>\n",
       "      <td>True</td>\n",
       "      <td>...</td>\n",
       "      <td>NaN</td>\n",
       "      <td>0.0</td>\n",
       "      <td>NaN</td>\n",
       "      <td>45.0</td>\n",
       "      <td>52542.37</td>\n",
       "      <td>0</td>\n",
       "      <td>1</td>\n",
       "      <td>2018</td>\n",
       "      <td>другой</td>\n",
       "      <td>NaN</td>\n",
       "    </tr>\n",
       "    <tr>\n",
       "      <th>23696</th>\n",
       "      <td>18</td>\n",
       "      <td>2500000.0</td>\n",
       "      <td>56.70</td>\n",
       "      <td>2018-02-11</td>\n",
       "      <td>2</td>\n",
       "      <td>2.65</td>\n",
       "      <td>3.0</td>\n",
       "      <td>29.700000</td>\n",
       "      <td>1</td>\n",
       "      <td>True</td>\n",
       "      <td>...</td>\n",
       "      <td>NaN</td>\n",
       "      <td>0.0</td>\n",
       "      <td>NaN</td>\n",
       "      <td>95.0</td>\n",
       "      <td>44091.71</td>\n",
       "      <td>6</td>\n",
       "      <td>2</td>\n",
       "      <td>2018</td>\n",
       "      <td>первый</td>\n",
       "      <td>NaN</td>\n",
       "    </tr>\n",
       "    <tr>\n",
       "      <th>23697</th>\n",
       "      <td>13</td>\n",
       "      <td>11475000.0</td>\n",
       "      <td>76.75</td>\n",
       "      <td>2017-03-28</td>\n",
       "      <td>2</td>\n",
       "      <td>3.00</td>\n",
       "      <td>17.0</td>\n",
       "      <td>43.866042</td>\n",
       "      <td>12</td>\n",
       "      <td>True</td>\n",
       "      <td>...</td>\n",
       "      <td>173.0</td>\n",
       "      <td>3.0</td>\n",
       "      <td>196.0</td>\n",
       "      <td>602.0</td>\n",
       "      <td>149511.40</td>\n",
       "      <td>1</td>\n",
       "      <td>3</td>\n",
       "      <td>2017</td>\n",
       "      <td>другой</td>\n",
       "      <td>10.0</td>\n",
       "    </tr>\n",
       "    <tr>\n",
       "      <th>23698</th>\n",
       "      <td>4</td>\n",
       "      <td>1350000.0</td>\n",
       "      <td>32.30</td>\n",
       "      <td>2017-07-21</td>\n",
       "      <td>1</td>\n",
       "      <td>2.50</td>\n",
       "      <td>5.0</td>\n",
       "      <td>12.300000</td>\n",
       "      <td>1</td>\n",
       "      <td>True</td>\n",
       "      <td>...</td>\n",
       "      <td>NaN</td>\n",
       "      <td>0.0</td>\n",
       "      <td>NaN</td>\n",
       "      <td>95.0</td>\n",
       "      <td>41795.67</td>\n",
       "      <td>4</td>\n",
       "      <td>7</td>\n",
       "      <td>2017</td>\n",
       "      <td>первый</td>\n",
       "      <td>NaN</td>\n",
       "    </tr>\n",
       "  </tbody>\n",
       "</table>\n",
       "<p>23699 rows × 28 columns</p>\n",
       "</div>"
      ],
      "text/plain": [
       "       total_images  last_price  total_area first_day_exposition  rooms  \\\n",
       "0                20  13000000.0      108.00           2019-03-07      3   \n",
       "1                 7   3350000.0       40.40           2018-12-04      1   \n",
       "2                10   5196000.0       56.00           2015-08-20      2   \n",
       "3                 0  64900000.0      159.00           2015-07-24      3   \n",
       "4                 2  10000000.0      100.00           2018-06-19      2   \n",
       "...             ...         ...         ...                  ...    ...   \n",
       "23694             9   9700000.0      133.81           2017-03-21      3   \n",
       "23695            14   3100000.0       59.00           2018-01-15      3   \n",
       "23696            18   2500000.0       56.70           2018-02-11      2   \n",
       "23697            13  11475000.0       76.75           2017-03-28      2   \n",
       "23698             4   1350000.0       32.30           2017-07-21      1   \n",
       "\n",
       "       ceiling_height  floors_total  living_area  floor  is_apartment  ...  \\\n",
       "0                2.70          16.0    51.000000      8          True  ...   \n",
       "1                2.65          11.0    18.600000      1          True  ...   \n",
       "2                2.65           5.0    34.300000      4          True  ...   \n",
       "3                2.65          14.0    90.875579      9          True  ...   \n",
       "4                3.03          14.0    32.000000     13          True  ...   \n",
       "...               ...           ...          ...    ...           ...  ...   \n",
       "23694            3.70           5.0    73.300000      3          True  ...   \n",
       "23695            2.65           5.0    38.000000      4          True  ...   \n",
       "23696            2.65           3.0    29.700000      1          True  ...   \n",
       "23697            3.00          17.0    43.866042     12          True  ...   \n",
       "23698            2.50           5.0    12.300000      1          True  ...   \n",
       "\n",
       "       parks_nearest  ponds_around3000  ponds_nearest  days_exposition  \\\n",
       "0              482.0               2.0          755.0             95.0   \n",
       "1                NaN               0.0            NaN             81.0   \n",
       "2               90.0               2.0          574.0            558.0   \n",
       "3               84.0               3.0          234.0            424.0   \n",
       "4              112.0               1.0           48.0            121.0   \n",
       "...              ...               ...            ...              ...   \n",
       "23694          796.0               3.0          381.0             95.0   \n",
       "23695            NaN               0.0            NaN             45.0   \n",
       "23696            NaN               0.0            NaN             95.0   \n",
       "23697          173.0               3.0          196.0            602.0   \n",
       "23698            NaN               0.0            NaN             95.0   \n",
       "\n",
       "      price_per_sqm  day_of_week  month  year  floor_type  distance_to_center  \n",
       "0         120370.37            3      3  2019      другой                16.0  \n",
       "1          82920.79            1     12  2018      первый                19.0  \n",
       "2          92785.71            3      8  2015      другой                14.0  \n",
       "3         408176.10            4      7  2015      другой                 7.0  \n",
       "4         100000.00            1      6  2018      другой                 8.0  \n",
       "...             ...          ...    ...   ...         ...                 ...  \n",
       "23694      72490.85            1      3  2017      другой                 4.0  \n",
       "23695      52542.37            0      1  2018      другой                 NaN  \n",
       "23696      44091.71            6      2  2018      первый                 NaN  \n",
       "23697     149511.40            1      3  2017      другой                10.0  \n",
       "23698      41795.67            4      7  2017      первый                 NaN  \n",
       "\n",
       "[23699 rows x 28 columns]"
      ]
     },
     "execution_count": 30,
     "metadata": {},
     "output_type": "execute_result"
    }
   ],
   "source": [
    "data"
   ]
  },
  {
   "cell_type": "markdown",
   "id": "72d3658e",
   "metadata": {},
   "source": [
    "<div class=\"alert alert-block alert-success\">\n",
    "<b>✅Комментарий ревьюера:</b> Дополнительные данные рассчитаны и добавлены верно! Можно приступать к исследованию🙂 </div>"
   ]
  },
  {
   "cell_type": "markdown",
   "id": "fa2729d7",
   "metadata": {
    "id": "5766e785"
   },
   "source": [
    "<div class=\"alert alert-block alert-danger\">\n",
    "<b>❌Комментарий ревьюера:</b> \n",
    "    \n",
    "После этапа предобработки нужно сделать краткий резюмирующий вывод о проделанной работе.</div>"
   ]
  },
  {
   "cell_type": "markdown",
   "id": "a9f80e94",
   "metadata": {},
   "source": [
    "<div class=\"alert alert-block alert-success\">\n",
    "<b>✅Комментарий ревьюера 2:</b> Отлично, исправлено!👍  </div>"
   ]
  },
  {
   "cell_type": "markdown",
   "metadata": {},
   "source": [
    "Исходный набор данных содержал информацию о 23699 объектах недвижимости с 22 характеристиками, включая цену, площадь, количество комнат, расположение и т.д. Данные имели ряд проблем, таких как пропуски, аномальные значения, неявные дубликаты в названиях и некорректные типы данных в некоторых столбцах.\n",
    "\n",
    "\n",
    "В ходе предобработки были выполнены следующие шаги:\n",
    "\n",
    "\n",
    "- Удаление явных дубликатов.\n",
    "- Унификация названий населенных пунктов для устранения неявных дубликатов.\n",
    "\n",
    "Обработка пропусков:\n",
    "- Заполнение нулями для столбцов balcony, airports_nearest, cityCenters_nearest, parks_nearest, ponds_nearest.\n",
    "- Заполнение медианными значениями для ceiling_height и других столбцов с расстояниями.\n",
    "- Заполнение на основе средних коэффициентов для living_area и kitchen_area.\n",
    "\n",
    "Обработка аномалий:\n",
    "- Исправление некорректных значений в столбце ceiling_height.\n",
    "- Удаление или исправление строк с несогласованными значениями площадей.\n",
    "\n",
    "Создание новых признаков:\n",
    "- Цена за квадратный метр (price_per_sqm).\n",
    "- День недели, месяц и год публикации (day_of_week, month, year).\n",
    "- Тип этажа (floor_type).\n",
    "- Расстояние до центра в километрах (distance_to_center).\n",
    "- Приведение типов данных к соответствующим форматам (например, bool для is_apartment, datetime для first_day_exposition).\n",
    "\n",
    "После предобработки набор данных содержит 23581 объект с 24 характеристиками. Все критические проблемы, такие как пропуски, аномалии и несогласованности, были решены. Данные приведены к чистому и согласованному виду, пригодному для дальнейшего анализа и построения моделей."
   ]
  },
  {
   "cell_type": "markdown",
   "metadata": {
    "id": "pPyxrKWTAwb-"
   },
   "source": [
    "### Проведите исследовательский анализ данных"
   ]
  },
  {
   "cell_type": "markdown",
   "id": "cda499a0",
   "metadata": {},
   "source": [
    "<div class=\"alert alert-block alert-success\">\n",
    "<b>✅Комментарий ревьюера:</b> \n",
    "\n",
    "Здорово, что пишешь функции!</div>"
   ]
  },
  {
   "cell_type": "code",
   "execution_count": 31,
   "metadata": {
    "id": "V2f0D3kLAwb-",
    "scrolled": false
   },
   "outputs": [
    {
     "data": {
      "image/png": "[encoded data removed]",
      "text/plain": [
       "<Figure size 432x288 with 1 Axes>"
      ]
     },
     "metadata": {
      "needs_background": "light"
     },
     "output_type": "display_data"
    }
   ],
   "source": [
    "def analyze_param(data, param):\n",
    "    fig, axs = plt.subplots(1, 2, figsize=(15, 5))\n",
    "    \n",
    "    data[param].plot(kind='hist', bins=50, ax=axs[0])\n",
    "    axs[0].set_title(f'Histogram of {param}')\n",
    "    \n",
    "    data.boxplot(column=param, ax=axs[1])\n",
    "    axs[1].set_title(f'Boxplot of {param}')\n",
    "    \n",
    "    plt.show()\n",
    "    \n",
    "    print(f'Описательная статистика для {param}:')\n",
    "    print(data[param].describe())\n",
    "\n",
    "#for param in ['total_area', 'living_area', 'kitchen_area', 'last_price', 'rooms', 'ceiling_height', \n",
    "#'floors_total', 'cityCenters_nearest', 'parks_nearest']:\n",
    "#    analyze_param(data, param)\n",
    "    \n",
    "data['floor_type'].value_counts().plot(kind='bar')\n",
    "plt.title('Количество типов этажей квартиры')\n",
    "plt.show()"
   ]
  },
  {
   "cell_type": "code",
   "execution_count": 32,
   "metadata": {},
   "outputs": [
    {
     "data": {
      "image/png": "[encoded data removed]",
      "text/plain": [
       "<Figure size 1080x360 with 2 Axes>"
      ]
     },
     "metadata": {
      "needs_background": "light"
     },
     "output_type": "display_data"
    },
    {
     "name": "stdout",
     "output_type": "stream",
     "text": [
      "Описательная статистика для total_area:\n",
      "count    23699.000000\n",
      "mean        60.348651\n",
      "std         35.654083\n",
      "min         12.000000\n",
      "25%         40.000000\n",
      "50%         52.000000\n",
      "75%         69.900000\n",
      "max        900.000000\n",
      "Name: total_area, dtype: float64\n"
     ]
    }
   ],
   "source": [
    "analyze_param(data, 'total_area')"
   ]
  },
  {
   "cell_type": "markdown",
   "metadata": {},
   "source": [
    "По гистограмме и боксплоту видно, что большинство квартир имеют общую площадь в диапазоне от 30 до 100 кв.м. Распределение скошено вправо, с небольшим количеством квартир с очень большой площадью (более 200 кв.м). \n",
    "Квартиры с площадью более 200 кв.м можно считать выбросами, но они вполне реалистичны для элитного жилья или очень больших квартир. Поэтому мы не будем их удалять.\n",
    "\n",
    "\n",
    "- Описательные статистики подтверждают наши наблюдения: медиана (52 кв.м) меньше среднего (60.4 кв.м) из-за правосторонней асимметрии. \n",
    "- Минимальная площадь - 12 кв.м (вероятно, студии), максимальная - 900 кв.м.\n",
    "\n",
    "\n",
    "Выводы по total_area:\n",
    "\n",
    "\n",
    "- Типичная общая площадь квартиры: 30-100 кв.м\n",
    "- Распределение скошено вправо, есть небольшое количество очень больших квартир\n",
    "- Выбросы реалистичны и не требуют удаления "
   ]
  },
  {
   "cell_type": "code",
   "execution_count": 33,
   "metadata": {},
   "outputs": [
    {
     "data": {
      "image/png": "[encoded data removed]",
      "text/plain": [
       "<Figure size 1080x360 with 2 Axes>"
      ]
     },
     "metadata": {
      "needs_background": "light"
     },
     "output_type": "display_data"
    },
    {
     "name": "stdout",
     "output_type": "stream",
     "text": [
      "Описательная статистика для living_area:\n",
      "count    23699.000000\n",
      "mean        34.532905\n",
      "std         22.301870\n",
      "min          2.000000\n",
      "25%         19.000000\n",
      "50%         30.000000\n",
      "75%         42.100000\n",
      "max        409.700000\n",
      "Name: living_area, dtype: float64\n"
     ]
    }
   ],
   "source": [
    "analyze_param(data, 'living_area')"
   ]
  },
  {
   "cell_type": "markdown",
   "metadata": {},
   "source": [
    "- Большинство значений находятся в диапазоне 15-50 кв.м.\n",
    "- Есть несколько квартир с очень большой жилой площадью (более 150 кв.м), но они соответствуют квартирам с большой общей площадью, поэтому их не следует считать аномалиями.\n",
    "- По статистикам видно, что среднее (34.5 кв.м) немного больше медианы (30 кв.м). Минимум - 2 кв.м, максимум - 409 кв.м."
   ]
  },
  {
   "cell_type": "code",
   "execution_count": 34,
   "metadata": {},
   "outputs": [
    {
     "data": {
      "image/png": "[encoded data removed]",
      "text/plain": [
       "<Figure size 1080x360 with 2 Axes>"
      ]
     },
     "metadata": {
      "needs_background": "light"
     },
     "output_type": "display_data"
    },
    {
     "name": "stdout",
     "output_type": "stream",
     "text": [
      "Описательная статистика для kitchen_area:\n",
      "count    23699.000000\n",
      "mean        10.471684\n",
      "std          5.997952\n",
      "min          1.300000\n",
      "25%          7.000000\n",
      "50%          9.000000\n",
      "75%         12.000000\n",
      "max        112.000000\n",
      "Name: kitchen_area, dtype: float64\n"
     ]
    }
   ],
   "source": [
    "analyze_param(data, 'kitchen_area')"
   ]
  },
  {
   "cell_type": "markdown",
   "metadata": {},
   "source": [
    "- Для площади кухни большинство значений сосредоточено в еще более узком диапазоне: 6-12 кв.м. Это типичные размеры кухонь в квартирах.\n",
    "- Есть несколько квартир с очень маленькими кухнями (менее 3 кв.м), вероятно, это студии или очень компактные планировки. Также есть квартиры с большими кухнями (более 30 кв.м), скорее всего, это элитные квартиры или кухни-гостиные.\n",
    "\n",
    "\n",
    "- Среднее (10.4 кв.м) близко к медиане (9 кв.м). Минимум - 1.3 кв.м, максимум - 112 кв.м.\n",
    "\n"
   ]
  },
  {
   "cell_type": "code",
   "execution_count": 35,
   "metadata": {},
   "outputs": [
    {
     "data": {
      "image/png": "[encoded data removed]",
      "text/plain": [
       "<Figure size 1080x360 with 2 Axes>"
      ]
     },
     "metadata": {
      "needs_background": "light"
     },
     "output_type": "display_data"
    },
    {
     "name": "stdout",
     "output_type": "stream",
     "text": [
      "Описательная статистика для last_price:\n",
      "count    2.369900e+04\n",
      "mean     6.541549e+06\n",
      "std      1.088701e+07\n",
      "min      1.219000e+04\n",
      "25%      3.400000e+06\n",
      "50%      4.650000e+06\n",
      "75%      6.800000e+06\n",
      "max      7.630000e+08\n",
      "Name: last_price, dtype: float64\n"
     ]
    }
   ],
   "source": [
    "analyze_param(data, 'last_price')"
   ]
  },
  {
   "cell_type": "markdown",
   "metadata": {},
   "source": [
    "Распределение цен сильно скошено вправо, с длинным \"хвостом\" очень дорогих квартир. Большинство цен находится в диапазоне 2-10 млн рублей.\n",
    "Есть небольшое количество квартир с ценой более 30 млн рублей, вероятно, это элитное или эксклюзивное жилье. Учитывая распределение площадей, такие цены выглядят реалистично.\n",
    "\n",
    "\n",
    "Среднее (6.5 млн) значительно больше медианы (4.7 млн) из-за правосторонней асимметрии и влияния дорогих квартир. Минимальная цена - 12 тыс(аномалия???), максимальная - 763 млн рублей."
   ]
  },
  {
   "cell_type": "code",
   "execution_count": 36,
   "metadata": {},
   "outputs": [
    {
     "data": {
      "image/png": "[encoded data removed]",
      "text/plain": [
       "<Figure size 1080x360 with 2 Axes>"
      ]
     },
     "metadata": {
      "needs_background": "light"
     },
     "output_type": "display_data"
    },
    {
     "name": "stdout",
     "output_type": "stream",
     "text": [
      "Описательная статистика для rooms:\n",
      "count    23699.000000\n",
      "mean         2.070636\n",
      "std          1.078405\n",
      "min          0.000000\n",
      "25%          1.000000\n",
      "50%          2.000000\n",
      "75%          3.000000\n",
      "max         19.000000\n",
      "Name: rooms, dtype: float64\n"
     ]
    }
   ],
   "source": [
    "analyze_param(data, 'rooms')"
   ]
  },
  {
   "cell_type": "markdown",
   "metadata": {},
   "source": [
    "Гистограмма количества комнат показывает, что большинство квартир имеют 1-3 комнаты. Самые распространенные варианты - 1 и 2 комнаты.\n",
    "Есть небольшое количество квартир с 4-6 комнатами, но они не выглядят аномальными, учитывая распределение площадей.\n",
    "\n",
    "\n",
    "Среднее (2.1) близко к медиане (2), распределение относительно симметричное. Минимум - 0 комнат(???), максимум - 19 комнат (вероятно, очень большие квартиры или ошибки ввода)."
   ]
  },
  {
   "cell_type": "code",
   "execution_count": 37,
   "metadata": {},
   "outputs": [
    {
     "data": {
      "image/png": "[encoded data removed]",
      "text/plain": [
       "<Figure size 1080x360 with 2 Axes>"
      ]
     },
     "metadata": {
      "needs_background": "light"
     },
     "output_type": "display_data"
    },
    {
     "name": "stdout",
     "output_type": "stream",
     "text": [
      "Описательная статистика для ceiling_height:\n",
      "count    23699.000000\n",
      "mean         2.724358\n",
      "std          0.988298\n",
      "min          1.000000\n",
      "25%          2.600000\n",
      "50%          2.650000\n",
      "75%          2.700000\n",
      "max        100.000000\n",
      "Name: ceiling_height, dtype: float64\n"
     ]
    }
   ],
   "source": [
    "analyze_param(data, 'ceiling_height')"
   ]
  },
  {
   "cell_type": "markdown",
   "metadata": {},
   "source": [
    "На гистограмме высоты потолков видно явное скопление значений около 2.5-2.7 м, что является типичной высотой для современных квартир.\n",
    "Однако есть небольшое количество квартир с очень высокими потолками, до 5 и даже 100 метров. Такие значения выглядят подозрительно и могут быть ошибками ввода.\n",
    "\n",
    "\n",
    "Среднее (2.7 м) близко к медиане (2.65 м), но на них влияют аномально высокие значения. Без них распределение было бы более узким и симметричным."
   ]
  },
  {
   "cell_type": "code",
   "execution_count": 38,
   "metadata": {},
   "outputs": [
    {
     "data": {
      "image/png": "[encoded data removed]",
      "text/plain": [
       "<Figure size 1080x360 with 2 Axes>"
      ]
     },
     "metadata": {
      "needs_background": "light"
     },
     "output_type": "display_data"
    },
    {
     "name": "stdout",
     "output_type": "stream",
     "text": [
      "Описательная статистика для floors_total:\n",
      "count    23613.000000\n",
      "mean        10.673824\n",
      "std          6.597173\n",
      "min          1.000000\n",
      "25%          5.000000\n",
      "50%          9.000000\n",
      "75%         16.000000\n",
      "max         60.000000\n",
      "Name: floors_total, dtype: float64\n"
     ]
    }
   ],
   "source": [
    "analyze_param(data, 'floors_total')"
   ]
  },
  {
   "cell_type": "markdown",
   "metadata": {},
   "source": [
    "- Гистограмма общего числа этажей показывает, что большинство домов имеют от 5 до 25 этажей, с пиком около 9-12 этажей. Это типичные значения для многоквартирных домов.\n",
    "- Есть небольшое количество домов с числом этажей до 40 и даже 60, но такие высотки вполне реальны в крупных городах.\n",
    "\n",
    "\n",
    "- Среднее (10.7) немного больше медианы (9) из-за правосторонней асимметрии. Минимум - 1 этаж (вероятно, частные дома), максимум 60 этажей.\n",
    "\n"
   ]
  },
  {
   "cell_type": "code",
   "execution_count": 39,
   "metadata": {},
   "outputs": [
    {
     "data": {
      "image/png": "[encoded data removed]",
      "text/plain": [
       "<Figure size 1080x360 with 2 Axes>"
      ]
     },
     "metadata": {
      "needs_background": "light"
     },
     "output_type": "display_data"
    },
    {
     "name": "stdout",
     "output_type": "stream",
     "text": [
      "Описательная статистика для cityCenters_nearest:\n",
      "count    18180.000000\n",
      "mean     14191.277833\n",
      "std       8608.386210\n",
      "min        181.000000\n",
      "25%       9238.000000\n",
      "50%      13098.500000\n",
      "75%      16293.000000\n",
      "max      65968.000000\n",
      "Name: cityCenters_nearest, dtype: float64\n"
     ]
    }
   ],
   "source": [
    "analyze_param(data, 'cityCenters_nearest')"
   ]
  },
  {
   "cell_type": "markdown",
   "metadata": {},
   "source": [
    "- Распределение расстояний до центра города широкое и скошено вправо. Большинство квартир расположены в диапазоне 5-25 км от центра.\n",
    "- Есть небольшое количество квартир на расстоянии более 50 км, вероятно, в пригородах или на окраинах. Учитывая размеры крупных городов, такие расстояния реалистичны.\n",
    "\n",
    "\n",
    "- Среднее (14.2 км) больше медианы (13.1 км) из-за правосторонней асимметрии и влияния дальних квартир. Минимум - 181 м (в самом центре), максимум - 85 км."
   ]
  },
  {
   "cell_type": "code",
   "execution_count": 40,
   "metadata": {},
   "outputs": [
    {
     "data": {
      "image/png": "[encoded data removed]",
      "text/plain": [
       "<Figure size 1080x360 with 2 Axes>"
      ]
     },
     "metadata": {
      "needs_background": "light"
     },
     "output_type": "display_data"
    },
    {
     "name": "stdout",
     "output_type": "stream",
     "text": [
      "Описательная статистика для parks_nearest:\n",
      "count    8079.000000\n",
      "mean      490.804555\n",
      "std       342.317995\n",
      "min         1.000000\n",
      "25%       288.000000\n",
      "50%       455.000000\n",
      "75%       612.000000\n",
      "max      3190.000000\n",
      "Name: parks_nearest, dtype: float64\n"
     ]
    }
   ],
   "source": [
    "analyze_param(data, 'parks_nearest')"
   ]
  },
  {
   "cell_type": "markdown",
   "metadata": {},
   "source": [
    "- Большинство квартир находятся в диапазоне 400-1200 м от парка, с пиком около 500 м.\n",
    "- Однако есть значительное количество квартир на расстоянии более 2 км от парка, вплоть до 25 км. Это может быть связано с неравномерным распределением зеленых зон в городах.\n",
    "\n",
    "\n",
    "- Среднее (490 м) немного больше медианы (455 м) из-за большого числа квартир, удаленных от парков. Минимум - 1 м (рядом с парком), максимум - 3.2 км."
   ]
  },
  {
   "cell_type": "markdown",
   "metadata": {},
   "source": [
    "Главные результаты:\n",
    "\n",
    "\n",
    "Большинство параметров имеют скошенные распределения с длинным правым \"хвостом\", что отражает наличие элитных или нетипичных квартир\n",
    "Для площадей, цен, расстояний характерно наличие небольшого количества очень больших значений, которые, тем не менее, реалистичны\n",
    "Единственный параметр, потребовавший удаления выбросов - это высота потолков (ceiling_height), где некоторые значения были явно ошибочными\n",
    "Категориальный параметр floor_type имеет реалистичное распределение без аномалий"
   ]
  },
  {
   "cell_type": "markdown",
   "id": "8484ddbf",
   "metadata": {},
   "source": [
    "<div class=\"alert alert-block alert-danger\">\n",
    "<b>❌Комментарий ревьюера:</b>\n",
    "    \n",
    "    \n",
    "Давай в этом пункте не будем спешить и последовательно разберем каждый из параметров. Построим гистограмму, выявим редкие и выбивающиеся значения (дополнительно для этого можно использовать метод describe), потом построим гистограмму без них, опишем ее и сделаем выводы. Затем перейдем к следующему параметру и проделаем для него те же действия.\n",
    "    \n",
    "Необходимо подписывать каждый график и оси на нем. Есть [хорошая статья](https://devpractice.ru/matplotlib-lesson-3-3-text-elements/), которая подскажет как это правильно сделать). </div>"
   ]
  },
  {
   "cell_type": "markdown",
   "id": "a9f80e94",
   "metadata": {},
   "source": [
    "<div class=\"alert alert-block alert-success\">\n",
    "<b>✅Комментарий ревьюера 2:</b> Отлично, исправлено!👍  </div>"
   ]
  },
  {
   "cell_type": "code",
   "execution_count": 41,
   "metadata": {},
   "outputs": [
    {
     "data": {
      "image/png": "[encoded data removed]",
      "text/plain": [
       "<Figure size 1080x360 with 2 Axes>"
      ]
     },
     "metadata": {
      "needs_background": "light"
     },
     "output_type": "display_data"
    },
    {
     "name": "stdout",
     "output_type": "stream",
     "text": [
      "Описательная статистика для ceiling_height:\n",
      "count    23699.000000\n",
      "mean         2.695101\n",
      "std          0.226180\n",
      "min          0.520000\n",
      "25%          2.600000\n",
      "50%          2.650000\n",
      "75%          2.700000\n",
      "max         10.000000\n",
      "Name: ceiling_height, dtype: float64\n"
     ]
    }
   ],
   "source": [
    "# Исправление аномалий в ceiling_height\n",
    "data.loc[data['ceiling_height'] > 5, 'ceiling_height'] /= 10\n",
    "\n",
    "# Повторный анализ ceiling_height после исправления\n",
    "analyze_param(data, 'ceiling_height')"
   ]
  },
  {
   "cell_type": "code",
   "execution_count": 42,
   "metadata": {},
   "outputs": [
    {
     "data": {
      "text/html": [
       "<div>\n",
       "<style scoped>\n",
       "    .dataframe tbody tr th:only-of-type {\n",
       "        vertical-align: middle;\n",
       "    }\n",
       "\n",
       "    .dataframe tbody tr th {\n",
       "        vertical-align: top;\n",
       "    }\n",
       "\n",
       "    .dataframe thead th {\n",
       "        text-align: right;\n",
       "    }\n",
       "</style>\n",
       "<table border=\"1\" class=\"dataframe\">\n",
       "  <thead>\n",
       "    <tr style=\"text-align: right;\">\n",
       "      <th></th>\n",
       "      <th>total_images</th>\n",
       "      <th>last_price</th>\n",
       "      <th>total_area</th>\n",
       "      <th>first_day_exposition</th>\n",
       "      <th>rooms</th>\n",
       "      <th>ceiling_height</th>\n",
       "      <th>floors_total</th>\n",
       "      <th>living_area</th>\n",
       "      <th>floor</th>\n",
       "      <th>is_apartment</th>\n",
       "      <th>...</th>\n",
       "      <th>parks_nearest</th>\n",
       "      <th>ponds_around3000</th>\n",
       "      <th>ponds_nearest</th>\n",
       "      <th>days_exposition</th>\n",
       "      <th>price_per_sqm</th>\n",
       "      <th>day_of_week</th>\n",
       "      <th>month</th>\n",
       "      <th>year</th>\n",
       "      <th>floor_type</th>\n",
       "      <th>distance_to_center</th>\n",
       "    </tr>\n",
       "  </thead>\n",
       "  <tbody>\n",
       "    <tr>\n",
       "      <th>2489</th>\n",
       "      <td>9</td>\n",
       "      <td>12500000.0</td>\n",
       "      <td>255.0</td>\n",
       "      <td>2017-04-21</td>\n",
       "      <td>3</td>\n",
       "      <td>2.65</td>\n",
       "      <td>2.0</td>\n",
       "      <td>153.9</td>\n",
       "      <td>2</td>\n",
       "      <td>True</td>\n",
       "      <td>...</td>\n",
       "      <td>NaN</td>\n",
       "      <td>3.0</td>\n",
       "      <td>198.0</td>\n",
       "      <td>102.0</td>\n",
       "      <td>49019.61</td>\n",
       "      <td>4</td>\n",
       "      <td>4</td>\n",
       "      <td>2017</td>\n",
       "      <td>последний</td>\n",
       "      <td>7.0</td>\n",
       "    </tr>\n",
       "    <tr>\n",
       "      <th>19540</th>\n",
       "      <td>8</td>\n",
       "      <td>420000000.0</td>\n",
       "      <td>900.0</td>\n",
       "      <td>2017-12-06</td>\n",
       "      <td>12</td>\n",
       "      <td>2.80</td>\n",
       "      <td>25.0</td>\n",
       "      <td>409.7</td>\n",
       "      <td>25</td>\n",
       "      <td>True</td>\n",
       "      <td>...</td>\n",
       "      <td>NaN</td>\n",
       "      <td>2.0</td>\n",
       "      <td>318.0</td>\n",
       "      <td>106.0</td>\n",
       "      <td>466666.67</td>\n",
       "      <td>2</td>\n",
       "      <td>12</td>\n",
       "      <td>2017</td>\n",
       "      <td>последний</td>\n",
       "      <td>8.0</td>\n",
       "    </tr>\n",
       "    <tr>\n",
       "      <th>20215</th>\n",
       "      <td>2</td>\n",
       "      <td>85000000.0</td>\n",
       "      <td>249.7</td>\n",
       "      <td>2018-02-01</td>\n",
       "      <td>3</td>\n",
       "      <td>2.65</td>\n",
       "      <td>10.0</td>\n",
       "      <td>72.0</td>\n",
       "      <td>9</td>\n",
       "      <td>True</td>\n",
       "      <td>...</td>\n",
       "      <td>2218.0</td>\n",
       "      <td>2.0</td>\n",
       "      <td>99.0</td>\n",
       "      <td>26.0</td>\n",
       "      <td>340408.49</td>\n",
       "      <td>3</td>\n",
       "      <td>2</td>\n",
       "      <td>2018</td>\n",
       "      <td>другой</td>\n",
       "      <td>5.0</td>\n",
       "    </tr>\n",
       "  </tbody>\n",
       "</table>\n",
       "<p>3 rows × 28 columns</p>\n",
       "</div>"
      ],
      "text/plain": [
       "       total_images   last_price  total_area first_day_exposition  rooms  \\\n",
       "2489              9   12500000.0       255.0           2017-04-21      3   \n",
       "19540             8  420000000.0       900.0           2017-12-06     12   \n",
       "20215             2   85000000.0       249.7           2018-02-01      3   \n",
       "\n",
       "       ceiling_height  floors_total  living_area  floor  is_apartment  ...  \\\n",
       "2489             2.65           2.0        153.9      2          True  ...   \n",
       "19540            2.80          25.0        409.7     25          True  ...   \n",
       "20215            2.65          10.0         72.0      9          True  ...   \n",
       "\n",
       "       parks_nearest  ponds_around3000  ponds_nearest  days_exposition  \\\n",
       "2489             NaN               3.0          198.0            102.0   \n",
       "19540            NaN               2.0          318.0            106.0   \n",
       "20215         2218.0               2.0           99.0             26.0   \n",
       "\n",
       "      price_per_sqm  day_of_week  month  year  floor_type  distance_to_center  \n",
       "2489       49019.61            4      4  2017   последний                 7.0  \n",
       "19540     466666.67            2     12  2017   последний                 8.0  \n",
       "20215     340408.49            3      2  2018      другой                 5.0  \n",
       "\n",
       "[3 rows x 28 columns]"
      ]
     },
     "execution_count": 42,
     "metadata": {},
     "output_type": "execute_result"
    }
   ],
   "source": [
    "data.loc[data['kitchen_area']>100] #Cтрока 20215, где площадь кухни больше жилой площади"
   ]
  },
  {
   "cell_type": "code",
   "execution_count": 43,
   "metadata": {},
   "outputs": [
    {
     "data": {
      "text/html": [
       "<div>\n",
       "<style scoped>\n",
       "    .dataframe tbody tr th:only-of-type {\n",
       "        vertical-align: middle;\n",
       "    }\n",
       "\n",
       "    .dataframe tbody tr th {\n",
       "        vertical-align: top;\n",
       "    }\n",
       "\n",
       "    .dataframe thead th {\n",
       "        text-align: right;\n",
       "    }\n",
       "</style>\n",
       "<table border=\"1\" class=\"dataframe\">\n",
       "  <thead>\n",
       "    <tr style=\"text-align: right;\">\n",
       "      <th></th>\n",
       "      <th>total_images</th>\n",
       "      <th>last_price</th>\n",
       "      <th>total_area</th>\n",
       "      <th>first_day_exposition</th>\n",
       "      <th>rooms</th>\n",
       "      <th>ceiling_height</th>\n",
       "      <th>floors_total</th>\n",
       "      <th>living_area</th>\n",
       "      <th>floor</th>\n",
       "      <th>is_apartment</th>\n",
       "      <th>...</th>\n",
       "      <th>parks_nearest</th>\n",
       "      <th>ponds_around3000</th>\n",
       "      <th>ponds_nearest</th>\n",
       "      <th>days_exposition</th>\n",
       "      <th>price_per_sqm</th>\n",
       "      <th>day_of_week</th>\n",
       "      <th>month</th>\n",
       "      <th>year</th>\n",
       "      <th>floor_type</th>\n",
       "      <th>distance_to_center</th>\n",
       "    </tr>\n",
       "  </thead>\n",
       "  <tbody>\n",
       "    <tr>\n",
       "      <th>648</th>\n",
       "      <td>3</td>\n",
       "      <td>17500000.0</td>\n",
       "      <td>183.7</td>\n",
       "      <td>2018-07-01</td>\n",
       "      <td>11</td>\n",
       "      <td>3.40</td>\n",
       "      <td>7.0</td>\n",
       "      <td>138.8</td>\n",
       "      <td>7</td>\n",
       "      <td>True</td>\n",
       "      <td>...</td>\n",
       "      <td>NaN</td>\n",
       "      <td>0.0</td>\n",
       "      <td>NaN</td>\n",
       "      <td>95.0</td>\n",
       "      <td>95264.02</td>\n",
       "      <td>6</td>\n",
       "      <td>7</td>\n",
       "      <td>2018</td>\n",
       "      <td>последний</td>\n",
       "      <td>3.0</td>\n",
       "    </tr>\n",
       "    <tr>\n",
       "      <th>866</th>\n",
       "      <td>5</td>\n",
       "      <td>25000000.0</td>\n",
       "      <td>363.0</td>\n",
       "      <td>2017-12-23</td>\n",
       "      <td>14</td>\n",
       "      <td>3.16</td>\n",
       "      <td>5.0</td>\n",
       "      <td>222.0</td>\n",
       "      <td>4</td>\n",
       "      <td>True</td>\n",
       "      <td>...</td>\n",
       "      <td>NaN</td>\n",
       "      <td>2.0</td>\n",
       "      <td>435.0</td>\n",
       "      <td>418.0</td>\n",
       "      <td>68870.52</td>\n",
       "      <td>5</td>\n",
       "      <td>12</td>\n",
       "      <td>2017</td>\n",
       "      <td>другой</td>\n",
       "      <td>8.0</td>\n",
       "    </tr>\n",
       "    <tr>\n",
       "      <th>5358</th>\n",
       "      <td>20</td>\n",
       "      <td>65000000.0</td>\n",
       "      <td>590.0</td>\n",
       "      <td>2019-02-14</td>\n",
       "      <td>15</td>\n",
       "      <td>3.50</td>\n",
       "      <td>6.0</td>\n",
       "      <td>409.0</td>\n",
       "      <td>3</td>\n",
       "      <td>True</td>\n",
       "      <td>...</td>\n",
       "      <td>767.0</td>\n",
       "      <td>0.0</td>\n",
       "      <td>NaN</td>\n",
       "      <td>14.0</td>\n",
       "      <td>110169.49</td>\n",
       "      <td>3</td>\n",
       "      <td>2</td>\n",
       "      <td>2019</td>\n",
       "      <td>другой</td>\n",
       "      <td>5.0</td>\n",
       "    </tr>\n",
       "    <tr>\n",
       "      <th>9688</th>\n",
       "      <td>8</td>\n",
       "      <td>33000000.0</td>\n",
       "      <td>194.1</td>\n",
       "      <td>2017-02-07</td>\n",
       "      <td>11</td>\n",
       "      <td>3.43</td>\n",
       "      <td>5.0</td>\n",
       "      <td>129.0</td>\n",
       "      <td>2</td>\n",
       "      <td>True</td>\n",
       "      <td>...</td>\n",
       "      <td>686.0</td>\n",
       "      <td>2.0</td>\n",
       "      <td>66.0</td>\n",
       "      <td>813.0</td>\n",
       "      <td>170015.46</td>\n",
       "      <td>1</td>\n",
       "      <td>2</td>\n",
       "      <td>2017</td>\n",
       "      <td>другой</td>\n",
       "      <td>1.0</td>\n",
       "    </tr>\n",
       "    <tr>\n",
       "      <th>14498</th>\n",
       "      <td>6</td>\n",
       "      <td>32250000.0</td>\n",
       "      <td>374.6</td>\n",
       "      <td>2018-06-09</td>\n",
       "      <td>19</td>\n",
       "      <td>2.65</td>\n",
       "      <td>5.0</td>\n",
       "      <td>264.5</td>\n",
       "      <td>2</td>\n",
       "      <td>True</td>\n",
       "      <td>...</td>\n",
       "      <td>NaN</td>\n",
       "      <td>2.0</td>\n",
       "      <td>548.0</td>\n",
       "      <td>114.0</td>\n",
       "      <td>86091.83</td>\n",
       "      <td>5</td>\n",
       "      <td>6</td>\n",
       "      <td>2018</td>\n",
       "      <td>другой</td>\n",
       "      <td>4.0</td>\n",
       "    </tr>\n",
       "    <tr>\n",
       "      <th>18848</th>\n",
       "      <td>6</td>\n",
       "      <td>28500000.0</td>\n",
       "      <td>270.0</td>\n",
       "      <td>2015-03-02</td>\n",
       "      <td>16</td>\n",
       "      <td>3.00</td>\n",
       "      <td>4.0</td>\n",
       "      <td>180.0</td>\n",
       "      <td>4</td>\n",
       "      <td>True</td>\n",
       "      <td>...</td>\n",
       "      <td>516.0</td>\n",
       "      <td>0.0</td>\n",
       "      <td>NaN</td>\n",
       "      <td>1365.0</td>\n",
       "      <td>105555.56</td>\n",
       "      <td>0</td>\n",
       "      <td>3</td>\n",
       "      <td>2015</td>\n",
       "      <td>последний</td>\n",
       "      <td>4.0</td>\n",
       "    </tr>\n",
       "    <tr>\n",
       "      <th>19540</th>\n",
       "      <td>8</td>\n",
       "      <td>420000000.0</td>\n",
       "      <td>900.0</td>\n",
       "      <td>2017-12-06</td>\n",
       "      <td>12</td>\n",
       "      <td>2.80</td>\n",
       "      <td>25.0</td>\n",
       "      <td>409.7</td>\n",
       "      <td>25</td>\n",
       "      <td>True</td>\n",
       "      <td>...</td>\n",
       "      <td>NaN</td>\n",
       "      <td>2.0</td>\n",
       "      <td>318.0</td>\n",
       "      <td>106.0</td>\n",
       "      <td>466666.67</td>\n",
       "      <td>2</td>\n",
       "      <td>12</td>\n",
       "      <td>2017</td>\n",
       "      <td>последний</td>\n",
       "      <td>8.0</td>\n",
       "    </tr>\n",
       "    <tr>\n",
       "      <th>20829</th>\n",
       "      <td>6</td>\n",
       "      <td>28659000.0</td>\n",
       "      <td>245.4</td>\n",
       "      <td>2016-03-31</td>\n",
       "      <td>14</td>\n",
       "      <td>2.65</td>\n",
       "      <td>4.0</td>\n",
       "      <td>168.3</td>\n",
       "      <td>2</td>\n",
       "      <td>True</td>\n",
       "      <td>...</td>\n",
       "      <td>541.0</td>\n",
       "      <td>2.0</td>\n",
       "      <td>118.0</td>\n",
       "      <td>95.0</td>\n",
       "      <td>116784.84</td>\n",
       "      <td>3</td>\n",
       "      <td>3</td>\n",
       "      <td>2016</td>\n",
       "      <td>другой</td>\n",
       "      <td>2.0</td>\n",
       "    </tr>\n",
       "  </tbody>\n",
       "</table>\n",
       "<p>8 rows × 28 columns</p>\n",
       "</div>"
      ],
      "text/plain": [
       "       total_images   last_price  total_area first_day_exposition  rooms  \\\n",
       "648               3   17500000.0       183.7           2018-07-01     11   \n",
       "866               5   25000000.0       363.0           2017-12-23     14   \n",
       "5358             20   65000000.0       590.0           2019-02-14     15   \n",
       "9688              8   33000000.0       194.1           2017-02-07     11   \n",
       "14498             6   32250000.0       374.6           2018-06-09     19   \n",
       "18848             6   28500000.0       270.0           2015-03-02     16   \n",
       "19540             8  420000000.0       900.0           2017-12-06     12   \n",
       "20829             6   28659000.0       245.4           2016-03-31     14   \n",
       "\n",
       "       ceiling_height  floors_total  living_area  floor  is_apartment  ...  \\\n",
       "648              3.40           7.0        138.8      7          True  ...   \n",
       "866              3.16           5.0        222.0      4          True  ...   \n",
       "5358             3.50           6.0        409.0      3          True  ...   \n",
       "9688             3.43           5.0        129.0      2          True  ...   \n",
       "14498            2.65           5.0        264.5      2          True  ...   \n",
       "18848            3.00           4.0        180.0      4          True  ...   \n",
       "19540            2.80          25.0        409.7     25          True  ...   \n",
       "20829            2.65           4.0        168.3      2          True  ...   \n",
       "\n",
       "       parks_nearest  ponds_around3000  ponds_nearest  days_exposition  \\\n",
       "648              NaN               0.0            NaN             95.0   \n",
       "866              NaN               2.0          435.0            418.0   \n",
       "5358           767.0               0.0            NaN             14.0   \n",
       "9688           686.0               2.0           66.0            813.0   \n",
       "14498            NaN               2.0          548.0            114.0   \n",
       "18848          516.0               0.0            NaN           1365.0   \n",
       "19540            NaN               2.0          318.0            106.0   \n",
       "20829          541.0               2.0          118.0             95.0   \n",
       "\n",
       "      price_per_sqm  day_of_week  month  year  floor_type  distance_to_center  \n",
       "648        95264.02            6      7  2018   последний                 3.0  \n",
       "866        68870.52            5     12  2017      другой                 8.0  \n",
       "5358      110169.49            3      2  2019      другой                 5.0  \n",
       "9688      170015.46            1      2  2017      другой                 1.0  \n",
       "14498      86091.83            5      6  2018      другой                 4.0  \n",
       "18848     105555.56            0      3  2015   последний                 4.0  \n",
       "19540     466666.67            2     12  2017   последний                 8.0  \n",
       "20829     116784.84            3      3  2016      другой                 2.0  \n",
       "\n",
       "[8 rows x 28 columns]"
      ]
     },
     "execution_count": 43,
     "metadata": {},
     "output_type": "execute_result"
    }
   ],
   "source": [
    "data.loc[data['rooms']>10]"
   ]
  },
  {
   "cell_type": "code",
   "execution_count": 44,
   "metadata": {},
   "outputs": [
    {
     "data": {
      "image/png": "[encoded data removed]",
      "text/plain": [
       "<Figure size 720x360 with 1 Axes>"
      ]
     },
     "metadata": {
      "needs_background": "light"
     },
     "output_type": "display_data"
    },
    {
     "name": "stdout",
     "output_type": "stream",
     "text": [
      "Cреднее: 169.36\n",
      "Медиана: 95.00\n"
     ]
    }
   ],
   "source": [
    "# Гистограмма days_exposition\n",
    "data['days_exposition'].plot(kind='hist', bins=50, figsize=(10,5))\n",
    "plt.title('Распределение days_exposition')\n",
    "plt.show()\n",
    "\n",
    "print(f\"Cреднее: {data['days_exposition'].mean():.2f}\")\n",
    "print(f\"Медиана: {data['days_exposition'].median():.2f}\")"
   ]
  },
  {
   "cell_type": "markdown",
   "metadata": {},
   "source": [
    "Большинство квартир продается в течение первых 200 дней, с пиком около 50-100 дней. Однако есть значительное количество квартир, которые продаются очень долго, вплоть до 1000 и более дней.\n",
    "Среднее значение (167 дней) намного выше медианы (95 дней) из-за этих долгих продаж. Медиана здесь более показательна для типичного времени продажи."
   ]
  },
  {
   "cell_type": "markdown",
   "id": "4b2ec33b",
   "metadata": {},
   "source": [
    "<div class=\"alert alert-block alert-warning\">\n",
    "<b>🔁Комментарий ревьюера:</b>\n",
    "\n",
    "При ответе на вопрос о быстрых и долгих продажах лучше обратить внимание на 25 и 75 квартили. </div>"
   ]
  },
  {
   "cell_type": "code",
   "execution_count": 45,
   "metadata": {},
   "outputs": [
    {
     "data": {
      "image/png": "[encoded data removed]",
      "text/plain": [
       "<Figure size 720x360 with 1 Axes>"
      ]
     },
     "metadata": {
      "needs_background": "light"
     },
     "output_type": "display_data"
    },
    {
     "data": {
      "image/png": "[encoded data removed]",
      "text/plain": [
       "<Figure size 720x360 with 1 Axes>"
      ]
     },
     "metadata": {
      "needs_background": "light"
     },
     "output_type": "display_data"
    },
    {
     "data": {
      "image/png": "[encoded data removed]",
      "text/plain": [
       "<Figure size 720x360 with 1 Axes>"
      ]
     },
     "metadata": {
      "needs_background": "light"
     },
     "output_type": "display_data"
    },
    {
     "data": {
      "image/png": "[encoded data removed]",
      "text/plain": [
       "<Figure size 720x360 with 1 Axes>"
      ]
     },
     "metadata": {
      "needs_background": "light"
     },
     "output_type": "display_data"
    },
    {
     "data": {
      "image/png": "[encoded data removed]",
      "text/plain": [
       "<Figure size 720x360 with 1 Axes>"
      ]
     },
     "metadata": {
      "needs_background": "light"
     },
     "output_type": "display_data"
    },
    {
     "data": {
      "image/png": "[encoded data removed]",
      "text/plain": [
       "<Figure size 720x360 with 1 Axes>"
      ]
     },
     "metadata": {
      "needs_background": "light"
     },
     "output_type": "display_data"
    },
    {
     "data": {
      "image/png": "[encoded data removed]",
      "text/plain": [
       "<Figure size 720x360 with 1 Axes>"
      ]
     },
     "metadata": {
      "needs_background": "light"
     },
     "output_type": "display_data"
    },
    {
     "data": {
      "image/png": "[encoded data removed]",
      "text/plain": [
       "<Figure size 720x360 with 1 Axes>"
      ]
     },
     "metadata": {
      "needs_background": "light"
     },
     "output_type": "display_data"
    }
   ],
   "source": [
    "params = ['total_area', 'living_area', 'kitchen_area', 'rooms', 'floor_type', 'day_of_week', 'month', 'year']\n",
    "\n",
    "for param in params:\n",
    "    if param in ['day_of_week', 'month', 'year']:\n",
    "        # Для временных параметров используем сводную таблицу\n",
    "        data.pivot_table(index=param, values='last_price', aggfunc='mean').plot(kind='bar', figsize=(10,5))\n",
    "    else:\n",
    "        # Для остальных параметров используем scatter plot\n",
    "        plt.figure(figsize=(10,5))\n",
    "        plt.scatter(data[param], data['last_price'])\n",
    "    \n",
    "    plt.title(f'Зависимость цены от {param}')\n",
    "    plt.ylabel('Цена')\n",
    "    plt.xlabel(param)\n",
    "    plt.xticks(rotation=45)"
   ]
  },
  {
   "cell_type": "markdown",
   "id": "8c4c70ca",
   "metadata": {
    "id": "5766e785"
   },
   "source": [
    "<div class=\"alert alert-block alert-danger\">\n",
    "<b>❌Комментарий ревьюера:</b> \n",
    "\n",
    "Для построения распределений с помощью `scatterplot` не нужно предварительное формирование сводной таблицы, иначе теряется смысл визуализации. Она должна строиться по всему массиву значений.\n",
    "\n",
    "\n",
    "Есть [отличная статья](https://habr.com/ru/post/468295/), которая познакомит тебя поближе с разновидностями визуализаций\n",
    "\n",
    "P.S. Напомню, что каждый график в проекте и оси на нем должны быть подписаны</div>"
   ]
  },
  {
   "cell_type": "markdown",
   "id": "a9f80e94",
   "metadata": {},
   "source": [
    "<div class=\"alert alert-block alert-success\">\n",
    "<b>✅Комментарий ревьюера 2:</b> Отлично, исправлено!👍  </div>"
   ]
  },
  {
   "cell_type": "code",
   "execution_count": 46,
   "id": "05fb632e",
   "metadata": {},
   "outputs": [
    {
     "data": {
      "image/png": "[encoded data removed]",
      "text/plain": [
       "<Figure size 1080x504 with 1 Axes>"
      ]
     },
     "metadata": {
      "needs_background": "light"
     },
     "output_type": "display_data"
    }
   ],
   "source": [
    "# код ревьюера\n",
    "\n",
    "import seaborn as sns\n",
    "\n",
    "plt.figure(figsize=(15, 7))\n",
    "\n",
    "sns.scatterplot(data=data,  x='total_area', y='last_price', color='#AC7088')\n",
    "\n",
    "plt.title('Распределение зависимости цены квартиры от общей площади', size=17)\n",
    "plt.xlabel('Общая площадь квартиры', size=13)\n",
    "plt.ylabel('Цена', size=13)\n",
    "\n",
    "plt.show()"
   ]
  },
  {
   "cell_type": "markdown",
   "metadata": {},
   "source": [
    "Итак, главные факторы, влияющие на цену - это параметры, связанные с размером квартиры (площадь, количество комнат). Расположение квартиры в доме (этаж) имеет меньшее влияние. Дата размещения объявления, по-видимому, не является значимым фактором для цены."
   ]
  },
  {
   "cell_type": "markdown",
   "metadata": {},
   "source": [
    "В целом прослеживается явная положительная зависимость: с увеличением площади квартиры ее цена также растет.\n",
    "Зависимость близка к линейной, особенно в диапазоне площадей до 150-200 кв.м.\n",
    "Для квартир с площадью более 200 кв.м. разброс цен становится более значительным, появляются как очень дорогие, так и относительно недорогие варианты.\n",
    "В диапазоне малых площадей (менее 50 кв.м.) плотность точек наиболее высокая, что соответствует большому количеству компактных студий и однокомнатных квартир на рынке."
   ]
  },
  {
   "cell_type": "code",
   "execution_count": 47,
   "metadata": {},
   "outputs": [
    {
     "data": {
      "image/png": "[encoded data removed]",
      "text/plain": [
       "<Figure size 720x432 with 1 Axes>"
      ]
     },
     "metadata": {
      "needs_background": "light"
     },
     "output_type": "display_data"
    }
   ],
   "source": [
    "plt.figure(figsize=(10, 6))\n",
    "sns.scatterplot(data=data, x='living_area', y='last_price')\n",
    "plt.title('Зависимость цены от жилой площади')\n",
    "plt.xlabel('Жилая площадь (кв.м.)')\n",
    "plt.ylabel('Цена (руб.)')\n",
    "plt.show()"
   ]
  },
  {
   "cell_type": "code",
   "execution_count": 48,
   "metadata": {},
   "outputs": [
    {
     "data": {
      "image/png": "[encoded data removed]",
      "text/plain": [
       "<Figure size 720x432 with 1 Axes>"
      ]
     },
     "metadata": {
      "needs_background": "light"
     },
     "output_type": "display_data"
    }
   ],
   "source": [
    "plt.figure(figsize=(10, 6))\n",
    "sns.scatterplot(data=data, x='kitchen_area', y='last_price')\n",
    "plt.title('Зависимость цены от площади кухни')\n",
    "plt.xlabel('Площадь кухни (кв.м.)')\n",
    "plt.ylabel('Цена (руб.)')\n",
    "plt.show()"
   ]
  },
  {
   "cell_type": "markdown",
   "metadata": {},
   "source": [
    "На графике видна умеренная положительная зависимость цены от площади кухни. Однако разброс цен для квартир с похожей площадью кухни достаточно велик, особенно в диапазоне 6-10 кв.м., что является наиболее распространенным вариантом. Это говорит о том, что площадь кухни хоть и влияет на цену, но не является определяющим фактором."
   ]
  },
  {
   "cell_type": "code",
   "execution_count": 49,
   "metadata": {},
   "outputs": [
    {
     "data": {
      "image/png": "[encoded data removed]",
      "text/plain": [
       "<Figure size 720x432 with 1 Axes>"
      ]
     },
     "metadata": {
      "needs_background": "light"
     },
     "output_type": "display_data"
    }
   ],
   "source": [
    "plt.figure(figsize=(10, 6))\n",
    "sns.boxplot(data=data, x='rooms', y='last_price')\n",
    "plt.title('Зависимость цены от количества комнат')\n",
    "plt.xlabel('Количество комнат')\n",
    "plt.ylabel('Цена (руб.)')\n",
    "plt.show()"
   ]
  },
  {
   "cell_type": "markdown",
   "metadata": {},
   "source": [
    "График показывает явную положительную зависимость цены от количества комнат. Медианная цена последовательно растет от 1-комнатных до 4-комнатных квартир. Однако для квартир с 5 и более комнатами разброс цен становится очень значительным, что, вероятно, связано с их уникальными характеристиками и престижностью."
   ]
  },
  {
   "cell_type": "code",
   "execution_count": 50,
   "metadata": {},
   "outputs": [
    {
     "data": {
      "image/png": "[encoded data removed]",
      "text/plain": [
       "<Figure size 720x432 with 1 Axes>"
      ]
     },
     "metadata": {
      "needs_background": "light"
     },
     "output_type": "display_data"
    }
   ],
   "source": [
    "plt.figure(figsize=(10, 6))\n",
    "sns.boxplot(data=data, x='floor_type', y='last_price')\n",
    "plt.title('Зависимость цены от типа этажа')\n",
    "plt.xlabel('Тип этажа')\n",
    "plt.ylabel('Цена (руб.)')\n",
    "plt.show()"
   ]
  },
  {
   "cell_type": "markdown",
   "metadata": {},
   "source": [
    "На графике видно, что квартиры на последнем этаже в среднем несколько дороже, чем на первом и других этажах. Однако разница не очень большая, и разброс цен внутри каждой категории значителен. Это говорит о том, что тип этажа имеет некоторое влияние на цену, но не является ключевым фактором."
   ]
  },
  {
   "cell_type": "code",
   "execution_count": 51,
   "metadata": {},
   "outputs": [
    {
     "data": {
      "image/png": "[encoded data removed]",
      "text/plain": [
       "<Figure size 1440x432 with 3 Axes>"
      ]
     },
     "metadata": {
      "needs_background": "light"
     },
     "output_type": "display_data"
    }
   ],
   "source": [
    "fig, axs = plt.subplots(1, 3, figsize=(20, 6))\n",
    "\n",
    "data.groupby('day_of_week')['last_price'].mean().plot(kind='bar', ax=axs[0])\n",
    "axs[0].set_title('Зависимость цены от дня недели')\n",
    "axs[0].set_xlabel('День недели')\n",
    "axs[0].set_ylabel('Средняя цена (руб.)')\n",
    "\n",
    "data.groupby('month')['last_price'].mean().plot(kind='bar', ax=axs[1])\n",
    "axs[1].set_title('Зависимость цены от месяца')\n",
    "axs[1].set_xlabel('Месяц')\n",
    "axs[1].set_ylabel('Средняя цена (руб.)')\n",
    "\n",
    "data.groupby('year')['last_price'].mean().plot(kind='bar', ax=axs[2])\n",
    "axs[2].set_title('Зависимость цены от года')\n",
    "axs[2].set_xlabel('Год')\n",
    "axs[2].set_ylabel('Средняя цена (руб.)')\n",
    "\n",
    "plt.tight_layout()\n",
    "plt.show()"
   ]
  },
  {
   "cell_type": "markdown",
   "metadata": {},
   "source": [
    "Графики показывают следующее:\n",
    "- День недели не оказывает значительного влияния на цену. Средние цены для каждого дня достаточно близки друг к другу.\n",
    "- Месяц размещения также не демонстрирует явной зависимости. Хотя есть некоторые колебания средней цены от месяца к месяцу, они относительно невелики.\n",
    "- По годам наблюдается более заметный тренд: cначала цена падает(как новостройка, возможно), достигнув нижней точки, начинает расти."
   ]
  },
  {
   "cell_type": "markdown",
   "id": "8c4c70ca",
   "metadata": {
    "id": "5766e785"
   },
   "source": [
    "<div class=\"alert alert-block alert-danger\">\n",
    "<b>❌Комментарий ревьюера:</b> \n",
    "\n",
    "Здесь аналогично, давай не будем спешить и проведем последовательный анализ зависимости цены от каждого из параметров, с описанием визуализаций и выводами.\n",
    "\n",
    "</div>"
   ]
  },
  {
   "cell_type": "markdown",
   "id": "a9f80e94",
   "metadata": {},
   "source": [
    "<div class=\"alert alert-block alert-success\">\n",
    "<b>✅Комментарий ревьюера 2:</b> Отлично, исправлено!👍  </div>"
   ]
  },
  {
   "cell_type": "code",
   "execution_count": 52,
   "metadata": {},
   "outputs": [
    {
     "name": "stdout",
     "output_type": "stream",
     "text": [
      "                   price_per_sqm  count\n",
      "locality_name                          \n",
      "Санкт-Петербург        114849.01  15721\n",
      "Пушкин                 103125.82    369\n",
      "деревня Кудрово         92473.55    299\n",
      "поселок Парголово       90175.91    327\n",
      "поселок Мурино          85681.76    556\n",
      "поселок Шушары          78677.36    440\n",
      "Колпино                 75424.58    338\n",
      "Гатчина                 68746.15    307\n",
      "Всеволожск              68654.47    398\n",
      "Выборг                  58141.91    237\n"
     ]
    }
   ],
   "source": [
    "top10_localities = (\n",
    "    data.groupby('locality_name')\n",
    "    .size()\n",
    "    .sort_values(ascending=False)\n",
    "    .head(10)\n",
    "    .index\n",
    ")\n",
    "\n",
    "price_per_sqm_top10 = (\n",
    "    data[data['locality_name'].isin(top10_localities)]\n",
    "    .groupby('locality_name')\n",
    "    .agg({'price_per_sqm': 'mean', 'locality_name': 'size'})\n",
    "    .rename(columns={'locality_name': 'count'})\n",
    "    .sort_values('price_per_sqm', ascending=False)\n",
    "    .round(2)\n",
    ")\n",
    "\n",
    "print(price_per_sqm_top10)"
   ]
  },
  {
   "cell_type": "markdown",
   "metadata": {},
   "source": [
    "Из этой таблицы мы видим, что среди топ-10 населенных пунктов по количеству объявлений:\n",
    "- Самая высокая средняя цена квадратного метра в Санкт-Петербурге (114849.01 руб.), что ожидаемо, так как это крупнейший город.\n",
    "- Самая низкая - в Выборге (58141.91 руб.), который, вероятно, связан с инфраструктурой города.\n",
    "Остальные населенные пункты имеют цену квадратного метра в диапазоне от 68 до 103 тыс. руб., занимая промежуточное положение."
   ]
  },
  {
   "cell_type": "markdown",
   "id": "fff6bf1f",
   "metadata": {},
   "source": [
    "<div class=\"alert alert-block alert-success\">\n",
    "<b>✅Комментарий ревьюера:</b> Все верно</div>"
   ]
  },
  {
   "cell_type": "code",
   "execution_count": 53,
   "metadata": {},
   "outputs": [
    {
     "data": {
      "image/png": "[encoded data removed]",
      "text/plain": [
       "<Figure size 720x360 with 1 Axes>"
      ]
     },
     "metadata": {
      "needs_background": "light"
     },
     "output_type": "display_data"
    }
   ],
   "source": [
    "spb_df = data[data['locality_name'] == 'Санкт-Петербург']\n",
    "\n",
    "price_by_distance = (\n",
    "    spb_df.groupby('distance_to_center')\n",
    "    ['last_price']\n",
    "    .mean()\n",
    "    .reset_index()\n",
    ")\n",
    "\n",
    "price_by_distance.plot(x='distance_to_center', y='last_price', kind='line', figsize=(10,5))\n",
    "plt.title('Зависимость цены от дистанции к центру СПБ')\n",
    "plt.ylabel('Cредняя цена')\n",
    "plt.xlabel('Расстояние до центра')\n",
    "plt.xticks(rotation=45)\n",
    "plt.show()"
   ]
  },
  {
   "cell_type": "markdown",
   "metadata": {},
   "source": [
    "График показывает четкую зависимость цены от расстояния до центра Санкт-Петербурга:\n",
    "- Самые дорогие квартиры расположены в первых 5 км от центра.\n",
    "- Далее с каждым километром удаленности цена в среднем снижается.\n",
    "- После 15-20 км от центра цена более или менее стабилизируется на нижнем уровне.\n",
    "Это типичная картина для крупных городов: недвижимость в центре, где сосредоточена деловая и культурная жизнь, является наиболее дорогой. По мере удаления от центра цены снижаются, так как уменьшается доступность ключевых городских объектов и инфраструктуры."
   ]
  },
  {
   "cell_type": "markdown",
   "id": "2a2e1594",
   "metadata": {},
   "source": [
    "<div class=\"alert alert-block alert-warning\">\n",
    "<b>🔁Комментарий ревьюера:</b>\n",
    "\n",
    "Как ты думаешь, чем можно объяснить небольшой пик в районе 27 км? </div>"
   ]
  },
  {
   "cell_type": "markdown",
   "metadata": {
    "id": "h7VpzkIDAwb-"
   },
   "source": [
    "### Напишите общий вывод"
   ]
  },
  {
   "cell_type": "markdown",
   "metadata": {},
   "source": [
    "В результате этого анализа мы выяснили:\n",
    "\n",
    "\n",
    "- Большинство квартир продается в течение 50-150 дней, продажи более 300 дней можно считать необычно долгими.\n",
    "- Главные факторы, влияющие на цену квартиры - это параметры, связанные с ее размером (площадь, количество комнат). Дата размещения объявления не является значимым фактором.\n",
    "- Среди топ-10 населенных пунктов по количеству объявлений самая высокая средняя цена квадратного метра в Санкт-Петербурге, самая низкая - в Выборге.\n",
    "- В Санкт-Петербурге цена квартир в среднем снижается с каждым километром удаленности от центра города, стабилизируясь на нижнем уровне после 15-20 км."
   ]
  },
  {
   "cell_type": "markdown",
   "id": "41e1cdbf",
   "metadata": {
    "id": "5766e785"
   },
   "source": [
    "<div class=\"alert alert-block alert-danger\">\n",
    "<b>❌Комментарий ревьюера:</b> \n",
    "    \n",
    "Итоговый вывод должен быть подробнее и содержать краткую информацию о том, какая работа была проделана и какие результаты получены **по всем пунктам исследования**.\n",
    "    \n",
    "Можно дополнительно описать основные характеристики \"среднестатистической\" квартиры из объявления.\n",
    "\n",
    "**Хочу обратить твое внимание на то, что после исправления замечаний в некоторых пунктах исследования могут измениться результаты, поэтому нужно будет подкорректировать выводы.**\n",
    "</div>"
   ]
  },
  {
   "cell_type": "markdown",
   "id": "a9f80e94",
   "metadata": {},
   "source": [
    "<div class=\"alert alert-block alert-success\">\n",
    "<b>✅Комментарий ревьюера 2:</b> Отлично, исправлено!👍  </div>"
   ]
  },
  {
   "cell_type": "markdown",
   "metadata": {},
   "source": [
    "В ходе данного исследования мы провели подробный анализ объявлений о продаже квартир, размещенных на Яндекс.Недвижимости. Наша цель состояла в том, чтобы изучить основные характеристики и факторы, влияющие на цену и время продажи квартир.\n",
    "\n",
    "\n",
    "Мы начали с предобработки данных, включая удаление дубликатов, обработку пропусков и аномальных значений, создание новых признаков и приведение данных к подходящему формату.\n",
    "\n",
    "\n",
    "Затем мы провели детальный анализ времени продажи и выяснили, что большинство квартир (50%) продается в течение 95 дней, при этом продажи более 300 дней можно считать необычно долгими. Медианное время продажи составляет 95 дней.\n",
    "\n",
    "\n",
    "Далее мы исследовали факторы, влияющие на цену квартиры. Главными из них оказались параметры, связанные с размером квартиры: общая и жилая площадь, количество комнат. Площадь кухни и тип этажа также оказывают некоторое влияние, но не столь значительное. Дата размещения объявления не является значимым фактором для цены.\n",
    "\n",
    "\n",
    "Мы также проанализировали цены в разных населенных пунктах и расстояние до центра города. Среди топ-10 населенных пунктов по количеству объявлений самая высокая средняя цена квадратного метра зафиксирована в Санкт-Петербурге (114849.01 руб.), самая низкая - в Выборге (58141.91 руб.). В Санкт-Петербурге цена квартир в среднем снижается с каждым километром удаленности от центра города, стабилизируясь на нижнем уровне после 15-20 км.\n",
    "\n",
    "\n",
    "На основе полученных данных можно составить портрет \"среднестатистической\" квартиры из объявления:\n",
    "\n",
    "\n",
    "- Общая площадь - 52 кв.м.\n",
    "- Жилая площадь - около 30 кв.м.\n",
    "- Количество комнат - 2\n",
    "- Расположена не на первом и не на последнем этаже\n",
    "- Находится в Санкт-Петербурге или ближайших населенных пунктах\n",
    "- Удаленность от центра - 10-15 км\n",
    "- Ожидаемое время продажи - около 3 месяцев\n",
    "- Цена - около 6 млн руб. (со значительными вариациями в зависимости от точного расположения и характеристик)\n",
    "\n",
    "Это исследование дает ценную информацию о динамике и факторах ценообразования на рынке недвижимости, которая может быть полезна как для покупателей и продавцов квартир, так и для профессионалов в этой сфере. Полученные выводы помогают лучше понять предпочтения покупателей, ожидаемые сроки продажи и ключевые характеристики квартир, влияющие на их стоимость."
   ]
  },
  {
   "cell_type": "markdown",
   "metadata": {
    "id": "3H4lnp_KAwb-"
   },
   "source": []
  },
  {
   "cell_type": "markdown",
   "metadata": {
    "id": "A90mc0BgAwb-"
   },
   "source": [
    "**Чек-лист готовности проекта**\n",
    "\n",
    "Поставьте 'x' в выполненных пунктах. Далее нажмите Shift+Enter."
   ]
  },
  {
   "cell_type": "markdown",
   "metadata": {
    "id": "ME3sTWm6Awb-"
   },
   "source": [
    "- [x]  Файл с данными открыт.\n",
    "- [x]  Файл с данными изучен: выведены первые строки, использован метод `info()`, построены гистограммы.\n",
    "- [x]  Найдены пропущенные значения.\n",
    "- [x]  Пропущенные значения заполнены там, где это возможно.\n",
    "- [x]  Объяснено, какие пропущенные значения обнаружены.\n",
    "- [x]  В каждом столбце установлен корректный тип данных.\n",
    "- [x]  Объяснено, в каких столбцах изменён тип данных и почему.\n",
    "- [x]  Устранены неявные дубликаты в названиях населённых пунктов.\n",
    "- [x]  Обработаны редкие и выбивающиеся значения (аномалии).\n",
    "- [x]  В таблицу добавлены новые параметры:\n",
    "       – цена одного квадратного метра;\n",
    "       – день публикации объявления (0 - понедельник, 1 - вторник и т. д.);\n",
    "       – месяц публикации объявления;\n",
    "       – год публикации объявления;\n",
    "       – тип этажа квартиры (значения — «первый», «последний», «другой»);\n",
    "       – расстояние до центра города в километрах.\n",
    "- [x]  Изучены и описаны параметры:\n",
    "        - общая площадь;\n",
    "        - жилая площадь;\n",
    "        - площадь кухни;\n",
    "        - цена объекта;\n",
    "        - количество комнат;\n",
    "        - высота потолков;\n",
    "        - тип этажа квартиры («первый», «последний», «другой»);\n",
    "        - общее количество этажей в доме;\n",
    "        - расстояние до центра города в метрах;\n",
    "        - расстояние до ближайшего парка.\n",
    "- [x]  Выполнено задание «Изучите, как быстро продавались квартиры (столбец `days_exposition`)»:\n",
    "    - построена гистограмма;\n",
    "   - рассчитаны среднее и медиана;\n",
    "    - описано, сколько обычно занимает продажа и указано, какие продажи можно считать быстрыми, а какие — необычно долгими.\n",
    "- [x]  Выполнено задание «Определите факторы, которые больше всего влияют на общую (полную) стоимость объекта». Построены графики, которые показывают зависимость цены от параметров:\n",
    "        - общая площадь;\n",
    "        - жилая площадь;\n",
    "        - площадь кухни;\n",
    "        - количество комнат;\n",
    "        - тип этажа, на котором расположена квартира (первый, последний, другой);\n",
    "        - дата размещения (день недели, месяц, год).\n",
    "- [x]  Выполнено задание «Посчитайте среднюю цену одного квадратного метра в 10 населённых пунктах с наибольшим числом объявлений»:\n",
    "    - выделены населённые пункты с самой высокой и низкой стоимостью квадратного метра.\n",
    "- [x]  Выполнено задание «Выделите квартиры в Санкт-Петербурге с помощью столбца `locality_name` и вычислите их среднюю стоимость на разном удалении от центра»:\n",
    "    -  учтён каждый километр расстояния, известны средние цены квартир в одном километре от центра, в двух и так далее;\n",
    "    -  описано, как стоимость объекта зависит от расстояния до центра города;\n",
    "    -  построен график изменения средней цены для каждого километра от центра Петербурга.\n",
    "- [x]  На каждом этапе сделаны промежуточные выводы.\n",
    "- [x]  В конце проекта сделан общий вывод."
   ]
  }
 ],
 "metadata": {
  "ExecuteTimeLog": [
   {
    "duration": 51,
    "start_time": "2025-03-13T12:17:30.348Z"
   },
   {
    "duration": 401,
    "start_time": "2025-03-13T12:17:34.580Z"
   },
   {
    "duration": 96,
    "start_time": "2025-03-13T12:17:36.854Z"
   },
   {
    "duration": 16,
    "start_time": "2025-03-13T12:17:55.596Z"
   },
   {
    "duration": 13,
    "start_time": "2025-03-13T12:18:22.836Z"
   },
   {
    "duration": 93,
    "start_time": "2025-03-13T12:18:40.840Z"
   },
   {
    "duration": 29,
    "start_time": "2025-03-13T12:18:41.672Z"
   },
   {
    "duration": 15,
    "start_time": "2025-03-13T12:18:48.633Z"
   },
   {
    "duration": 1787,
    "start_time": "2025-03-13T12:19:03.915Z"
   },
   {
    "duration": 2119,
    "start_time": "2025-03-13T12:19:43.539Z"
   },
   {
    "duration": 53,
    "start_time": "2025-03-13T12:21:56.612Z"
   },
   {
    "duration": 7,
    "start_time": "2025-03-13T12:38:05.589Z"
   },
   {
    "duration": 28,
    "start_time": "2025-03-13T12:38:17.559Z"
   },
   {
    "duration": 16,
    "start_time": "2025-03-13T12:39:16.496Z"
   },
   {
    "duration": 7,
    "start_time": "2025-03-13T12:40:30.360Z"
   },
   {
    "duration": 16,
    "start_time": "2025-03-13T12:40:31.437Z"
   },
   {
    "duration": 1523,
    "start_time": "2025-03-13T12:42:11.502Z"
   },
   {
    "duration": 14,
    "start_time": "2025-03-13T12:42:47.788Z"
   },
   {
    "duration": 27,
    "start_time": "2025-03-13T12:45:04.053Z"
   },
   {
    "duration": 9,
    "start_time": "2025-03-13T12:47:33.598Z"
   },
   {
    "duration": 7,
    "start_time": "2025-03-13T12:47:47.301Z"
   },
   {
    "duration": 25,
    "start_time": "2025-03-13T12:47:50.296Z"
   },
   {
    "duration": 15,
    "start_time": "2025-03-13T12:48:04.525Z"
   },
   {
    "duration": 49,
    "start_time": "2025-03-13T12:48:18.067Z"
   },
   {
    "duration": 5,
    "start_time": "2025-03-13T12:49:51.151Z"
   },
   {
    "duration": 47,
    "start_time": "2025-03-13T12:49:53.686Z"
   },
   {
    "duration": 14,
    "start_time": "2025-03-13T12:51:00.125Z"
   },
   {
    "duration": 6,
    "start_time": "2025-03-13T12:56:20.527Z"
   },
   {
    "duration": 15,
    "start_time": "2025-03-13T12:56:22.816Z"
   },
   {
    "duration": 7,
    "start_time": "2025-03-13T12:57:23.266Z"
   },
   {
    "duration": 15,
    "start_time": "2025-03-13T12:57:25.099Z"
   },
   {
    "duration": 15,
    "start_time": "2025-03-13T12:57:33.995Z"
   },
   {
    "duration": 9,
    "start_time": "2025-03-13T13:01:09.838Z"
   },
   {
    "duration": 26,
    "start_time": "2025-03-13T13:01:17.810Z"
   },
   {
    "duration": 13,
    "start_time": "2025-03-13T13:02:52.262Z"
   },
   {
    "duration": 26,
    "start_time": "2025-03-13T13:02:54.862Z"
   },
   {
    "duration": 13,
    "start_time": "2025-03-13T13:03:05.051Z"
   },
   {
    "duration": 27,
    "start_time": "2025-03-13T13:03:06.252Z"
   },
   {
    "duration": 12,
    "start_time": "2025-03-13T13:03:20.554Z"
   },
   {
    "duration": 27,
    "start_time": "2025-03-13T13:03:21.723Z"
   },
   {
    "duration": 12,
    "start_time": "2025-03-13T13:04:40.471Z"
   },
   {
    "duration": 27,
    "start_time": "2025-03-13T13:04:41.299Z"
   },
   {
    "duration": 14,
    "start_time": "2025-03-13T13:04:49.480Z"
   },
   {
    "duration": 7,
    "start_time": "2025-03-13T13:10:52.774Z"
   },
   {
    "duration": 9,
    "start_time": "2025-03-13T13:13:41.378Z"
   },
   {
    "duration": 103,
    "start_time": "2025-03-13T13:13:49.258Z"
   },
   {
    "duration": 4,
    "start_time": "2025-03-13T13:14:22.848Z"
   },
   {
    "duration": 8,
    "start_time": "2025-03-13T13:14:27.627Z"
   },
   {
    "duration": 6,
    "start_time": "2025-03-13T13:15:45.878Z"
   },
   {
    "duration": 87,
    "start_time": "2025-03-13T13:16:28.192Z"
   },
   {
    "duration": 7,
    "start_time": "2025-03-13T13:16:29.783Z"
   },
   {
    "duration": 4,
    "start_time": "2025-03-13T13:16:43.232Z"
   },
   {
    "duration": 97,
    "start_time": "2025-03-13T13:16:43.238Z"
   },
   {
    "duration": 31,
    "start_time": "2025-03-13T13:16:43.337Z"
   },
   {
    "duration": 55,
    "start_time": "2025-03-13T13:16:43.370Z"
   },
   {
    "duration": 2160,
    "start_time": "2025-03-13T13:16:43.426Z"
   },
   {
    "duration": 7,
    "start_time": "2025-03-13T13:16:45.587Z"
   },
   {
    "duration": 6,
    "start_time": "2025-03-13T13:16:45.596Z"
   },
   {
    "duration": 6,
    "start_time": "2025-03-13T13:16:45.603Z"
   },
   {
    "duration": 5,
    "start_time": "2025-03-13T13:16:45.610Z"
   },
   {
    "duration": 4,
    "start_time": "2025-03-13T13:16:45.618Z"
   },
   {
    "duration": 41,
    "start_time": "2025-03-13T13:16:45.624Z"
   },
   {
    "duration": 28,
    "start_time": "2025-03-13T13:16:45.667Z"
   },
   {
    "duration": 15,
    "start_time": "2025-03-13T13:16:45.696Z"
   },
   {
    "duration": 9,
    "start_time": "2025-03-13T13:16:45.712Z"
   },
   {
    "duration": 4,
    "start_time": "2025-03-13T13:16:45.757Z"
   },
   {
    "duration": 100,
    "start_time": "2025-03-13T13:16:45.763Z"
   },
   {
    "duration": 7,
    "start_time": "2025-03-13T13:25:02.137Z"
   },
   {
    "duration": 6,
    "start_time": "2025-03-13T13:25:22.872Z"
   },
   {
    "duration": 6,
    "start_time": "2025-03-13T13:25:35.622Z"
   },
   {
    "duration": 9,
    "start_time": "2025-03-13T13:26:06.564Z"
   },
   {
    "duration": 9,
    "start_time": "2025-03-13T13:26:12.562Z"
   },
   {
    "duration": 9,
    "start_time": "2025-03-13T13:26:18.848Z"
   },
   {
    "duration": 9,
    "start_time": "2025-03-13T13:26:23.503Z"
   },
   {
    "duration": 5,
    "start_time": "2025-03-13T13:26:40.080Z"
   },
   {
    "duration": 4,
    "start_time": "2025-03-13T13:27:02.118Z"
   },
   {
    "duration": 33,
    "start_time": "2025-03-13T13:27:12.257Z"
   },
   {
    "duration": 13,
    "start_time": "2025-03-13T13:29:20.791Z"
   },
   {
    "duration": 2908,
    "start_time": "2025-03-13T13:29:51.235Z"
   },
   {
    "duration": 43,
    "start_time": "2025-03-13T13:32:38.723Z"
   },
   {
    "duration": 2864,
    "start_time": "2025-03-13T13:34:38.702Z"
   },
   {
    "duration": 8,
    "start_time": "2025-03-13T13:36:19.828Z"
   },
   {
    "duration": 284,
    "start_time": "2025-03-13T13:36:33.307Z"
   },
   {
    "duration": 5,
    "start_time": "2025-03-13T13:39:06.426Z"
   },
   {
    "duration": 6,
    "start_time": "2025-03-13T13:39:18.033Z"
   },
   {
    "duration": 5,
    "start_time": "2025-03-13T13:39:23.183Z"
   },
   {
    "duration": 5,
    "start_time": "2025-03-13T13:39:26.746Z"
   },
   {
    "duration": 17,
    "start_time": "2025-03-13T13:39:39.007Z"
   },
   {
    "duration": 46,
    "start_time": "2025-03-13T13:40:07.143Z"
   },
   {
    "duration": 26,
    "start_time": "2025-03-13T13:40:53.723Z"
   },
   {
    "duration": 15,
    "start_time": "2025-03-13T13:44:36.576Z"
   },
   {
    "duration": 28,
    "start_time": "2025-03-13T13:44:42.240Z"
   },
   {
    "duration": 208,
    "start_time": "2025-03-13T13:50:23.663Z"
   },
   {
    "duration": 13,
    "start_time": "2025-03-13T13:53:13.175Z"
   },
   {
    "duration": 1623,
    "start_time": "2025-03-13T13:53:21.877Z"
   },
   {
    "duration": 9,
    "start_time": "2025-03-13T13:56:24.827Z"
   },
   {
    "duration": 13,
    "start_time": "2025-03-13T13:56:51.781Z"
   },
   {
    "duration": 21,
    "start_time": "2025-03-13T13:56:59.559Z"
   },
   {
    "duration": 160,
    "start_time": "2025-03-13T14:02:00.201Z"
   },
   {
    "duration": 198,
    "start_time": "2025-03-13T14:02:09.383Z"
   },
   {
    "duration": 174,
    "start_time": "2025-03-13T14:03:08.568Z"
   },
   {
    "duration": 176,
    "start_time": "2025-03-13T14:03:29.010Z"
   },
   {
    "duration": 117,
    "start_time": "2025-03-13T14:04:23.730Z"
   },
   {
    "duration": 3,
    "start_time": "2025-03-13T14:07:24.841Z"
   },
   {
    "duration": 656,
    "start_time": "2025-03-13T14:30:37.119Z"
   },
   {
    "duration": 93,
    "start_time": "2025-03-13T14:30:37.777Z"
   },
   {
    "duration": 29,
    "start_time": "2025-03-13T14:30:37.872Z"
   },
   {
    "duration": 15,
    "start_time": "2025-03-13T14:30:37.904Z"
   },
   {
    "duration": 2001,
    "start_time": "2025-03-13T14:30:37.921Z"
   },
   {
    "duration": 8,
    "start_time": "2025-03-13T14:30:39.924Z"
   },
   {
    "duration": 11,
    "start_time": "2025-03-13T14:30:39.934Z"
   },
   {
    "duration": 5,
    "start_time": "2025-03-13T14:30:39.947Z"
   },
   {
    "duration": 9,
    "start_time": "2025-03-13T14:30:39.953Z"
   },
   {
    "duration": 6,
    "start_time": "2025-03-13T14:30:39.963Z"
   },
   {
    "duration": 7,
    "start_time": "2025-03-13T14:30:39.971Z"
   },
   {
    "duration": 29,
    "start_time": "2025-03-13T14:30:40.003Z"
   },
   {
    "duration": 13,
    "start_time": "2025-03-13T14:30:40.033Z"
   },
   {
    "duration": 33,
    "start_time": "2025-03-13T14:30:40.048Z"
   },
   {
    "duration": 30,
    "start_time": "2025-03-13T14:30:40.083Z"
   },
   {
    "duration": 92,
    "start_time": "2025-03-13T14:30:40.114Z"
   },
   {
    "duration": 6,
    "start_time": "2025-03-13T14:30:40.208Z"
   },
   {
    "duration": 9,
    "start_time": "2025-03-13T14:30:40.215Z"
   },
   {
    "duration": 18,
    "start_time": "2025-03-13T14:30:40.225Z"
   },
   {
    "duration": 6,
    "start_time": "2025-03-13T14:30:40.244Z"
   },
   {
    "duration": 22,
    "start_time": "2025-03-13T14:30:40.251Z"
   },
   {
    "duration": 7,
    "start_time": "2025-03-13T14:30:40.275Z"
   },
   {
    "duration": 54,
    "start_time": "2025-03-13T14:30:40.284Z"
   },
   {
    "duration": 2712,
    "start_time": "2025-03-13T14:30:40.340Z"
   },
   {
    "duration": 280,
    "start_time": "2025-03-13T14:30:43.054Z"
   },
   {
    "duration": 26,
    "start_time": "2025-03-13T14:30:43.336Z"
   },
   {
    "duration": 43,
    "start_time": "2025-03-13T14:30:43.363Z"
   },
   {
    "duration": 302,
    "start_time": "2025-03-13T14:30:43.407Z"
   },
   {
    "duration": 1414,
    "start_time": "2025-03-13T14:30:43.711Z"
   },
   {
    "duration": 20,
    "start_time": "2025-03-13T14:30:45.127Z"
   },
   {
    "duration": 191,
    "start_time": "2025-03-13T14:30:45.149Z"
   },
   {
    "duration": 9,
    "start_time": "2025-03-13T14:33:00.470Z"
   },
   {
    "duration": 651,
    "start_time": "2025-03-13T14:33:10.826Z"
   },
   {
    "duration": 98,
    "start_time": "2025-03-13T14:33:11.479Z"
   },
   {
    "duration": 30,
    "start_time": "2025-03-13T14:33:11.579Z"
   },
   {
    "duration": 17,
    "start_time": "2025-03-13T14:33:11.610Z"
   },
   {
    "duration": 2092,
    "start_time": "2025-03-13T14:33:11.629Z"
   },
   {
    "duration": 10,
    "start_time": "2025-03-13T14:33:13.723Z"
   },
   {
    "duration": 7,
    "start_time": "2025-03-13T14:33:13.734Z"
   },
   {
    "duration": 9,
    "start_time": "2025-03-13T14:33:13.743Z"
   },
   {
    "duration": 5,
    "start_time": "2025-03-13T14:33:13.754Z"
   },
   {
    "duration": 5,
    "start_time": "2025-03-13T14:33:13.760Z"
   },
   {
    "duration": 40,
    "start_time": "2025-03-13T14:33:13.766Z"
   },
   {
    "duration": 9,
    "start_time": "2025-03-13T14:33:13.807Z"
   },
   {
    "duration": 24,
    "start_time": "2025-03-13T14:33:13.818Z"
   },
   {
    "duration": 13,
    "start_time": "2025-03-13T14:33:13.846Z"
   },
   {
    "duration": 10,
    "start_time": "2025-03-13T14:33:13.861Z"
   },
   {
    "duration": 3,
    "start_time": "2025-03-13T14:33:13.873Z"
   },
   {
    "duration": 79,
    "start_time": "2025-03-13T14:33:13.905Z"
   },
   {
    "duration": 20,
    "start_time": "2025-03-13T14:33:13.986Z"
   },
   {
    "duration": 7,
    "start_time": "2025-03-13T14:33:14.008Z"
   },
   {
    "duration": 6,
    "start_time": "2025-03-13T14:33:14.016Z"
   },
   {
    "duration": 6,
    "start_time": "2025-03-13T14:33:14.024Z"
   },
   {
    "duration": 8,
    "start_time": "2025-03-13T14:33:14.032Z"
   },
   {
    "duration": 4,
    "start_time": "2025-03-13T14:33:14.042Z"
   },
   {
    "duration": 88,
    "start_time": "2025-03-13T14:33:14.048Z"
   },
   {
    "duration": 2851,
    "start_time": "2025-03-13T14:33:14.138Z"
   },
   {
    "duration": 292,
    "start_time": "2025-03-13T14:33:16.991Z"
   },
   {
    "duration": 36,
    "start_time": "2025-03-13T14:33:17.285Z"
   },
   {
    "duration": 27,
    "start_time": "2025-03-13T14:33:17.325Z"
   },
   {
    "duration": 350,
    "start_time": "2025-03-13T14:33:17.353Z"
   },
   {
    "duration": 1407,
    "start_time": "2025-03-13T14:33:17.705Z"
   },
   {
    "duration": 19,
    "start_time": "2025-03-13T14:33:19.113Z"
   },
   {
    "duration": 185,
    "start_time": "2025-03-13T14:33:19.134Z"
   },
   {
    "duration": 771,
    "start_time": "2025-03-13T14:37:12.430Z"
   },
   {
    "duration": 689,
    "start_time": "2025-03-13T14:39:01.892Z"
   },
   {
    "duration": 108,
    "start_time": "2025-03-13T14:39:02.583Z"
   },
   {
    "duration": 31,
    "start_time": "2025-03-13T14:39:02.693Z"
   },
   {
    "duration": 80,
    "start_time": "2025-03-13T14:39:02.727Z"
   },
   {
    "duration": 1996,
    "start_time": "2025-03-13T14:39:02.809Z"
   },
   {
    "duration": 8,
    "start_time": "2025-03-13T14:39:04.807Z"
   },
   {
    "duration": 35,
    "start_time": "2025-03-13T14:39:04.816Z"
   },
   {
    "duration": 50,
    "start_time": "2025-03-13T14:39:04.852Z"
   },
   {
    "duration": 4,
    "start_time": "2025-03-13T14:39:04.904Z"
   },
   {
    "duration": 16,
    "start_time": "2025-03-13T14:39:04.911Z"
   },
   {
    "duration": 13,
    "start_time": "2025-03-13T14:39:04.929Z"
   },
   {
    "duration": 11,
    "start_time": "2025-03-13T14:39:04.944Z"
   },
   {
    "duration": 54,
    "start_time": "2025-03-13T14:39:04.957Z"
   },
   {
    "duration": 28,
    "start_time": "2025-03-13T14:39:05.012Z"
   },
   {
    "duration": 6,
    "start_time": "2025-03-13T14:39:05.042Z"
   },
   {
    "duration": 19,
    "start_time": "2025-03-13T14:39:05.050Z"
   },
   {
    "duration": 95,
    "start_time": "2025-03-13T14:39:05.070Z"
   },
   {
    "duration": 4,
    "start_time": "2025-03-13T14:39:05.167Z"
   },
   {
    "duration": 26,
    "start_time": "2025-03-13T14:39:05.173Z"
   },
   {
    "duration": 11,
    "start_time": "2025-03-13T14:39:05.200Z"
   },
   {
    "duration": 18,
    "start_time": "2025-03-13T14:39:05.213Z"
   },
   {
    "duration": 14,
    "start_time": "2025-03-13T14:39:05.233Z"
   },
   {
    "duration": 7,
    "start_time": "2025-03-13T14:39:05.249Z"
   },
   {
    "duration": 65,
    "start_time": "2025-03-13T14:39:05.258Z"
   },
   {
    "duration": 2792,
    "start_time": "2025-03-13T14:39:05.325Z"
   },
   {
    "duration": 285,
    "start_time": "2025-03-13T14:39:08.118Z"
   },
   {
    "duration": 28,
    "start_time": "2025-03-13T14:39:08.405Z"
   },
   {
    "duration": 27,
    "start_time": "2025-03-13T14:39:08.436Z"
   },
   {
    "duration": 324,
    "start_time": "2025-03-13T14:39:08.464Z"
   },
   {
    "duration": 1450,
    "start_time": "2025-03-13T14:39:08.790Z"
   },
   {
    "duration": 823,
    "start_time": "2025-03-13T14:39:10.242Z"
   },
   {
    "duration": 19,
    "start_time": "2025-03-13T14:39:11.067Z"
   },
   {
    "duration": 187,
    "start_time": "2025-03-13T14:39:11.088Z"
   },
   {
    "duration": 838,
    "start_time": "2025-03-15T15:21:19.778Z"
   },
   {
    "duration": 100,
    "start_time": "2025-03-15T15:21:20.619Z"
   },
   {
    "duration": 30,
    "start_time": "2025-03-15T15:21:20.721Z"
   },
   {
    "duration": 29,
    "start_time": "2025-03-15T15:21:20.753Z"
   },
   {
    "duration": 1977,
    "start_time": "2025-03-15T15:21:20.785Z"
   },
   {
    "duration": 9,
    "start_time": "2025-03-15T15:21:22.765Z"
   },
   {
    "duration": 8,
    "start_time": "2025-03-15T15:21:22.775Z"
   },
   {
    "duration": 12,
    "start_time": "2025-03-15T15:21:22.785Z"
   },
   {
    "duration": 6,
    "start_time": "2025-03-15T15:21:22.799Z"
   },
   {
    "duration": 8,
    "start_time": "2025-03-15T15:21:22.806Z"
   },
   {
    "duration": 7,
    "start_time": "2025-03-15T15:21:22.816Z"
   },
   {
    "duration": 9,
    "start_time": "2025-03-15T15:21:22.825Z"
   },
   {
    "duration": 26,
    "start_time": "2025-03-15T15:21:22.873Z"
   },
   {
    "duration": 14,
    "start_time": "2025-03-15T15:21:22.901Z"
   },
   {
    "duration": 6,
    "start_time": "2025-03-15T15:21:22.917Z"
   },
   {
    "duration": 3,
    "start_time": "2025-03-15T15:21:22.924Z"
   },
   {
    "duration": 109,
    "start_time": "2025-03-15T15:21:22.929Z"
   },
   {
    "duration": 4,
    "start_time": "2025-03-15T15:21:23.040Z"
   },
   {
    "duration": 21,
    "start_time": "2025-03-15T15:21:23.046Z"
   },
   {
    "duration": 13,
    "start_time": "2025-03-15T15:21:23.069Z"
   },
   {
    "duration": 5,
    "start_time": "2025-03-15T15:21:23.084Z"
   },
   {
    "duration": 6,
    "start_time": "2025-03-15T15:21:23.091Z"
   },
   {
    "duration": 3,
    "start_time": "2025-03-15T15:21:23.099Z"
   },
   {
    "duration": 43,
    "start_time": "2025-03-15T15:21:23.103Z"
   },
   {
    "duration": 2724,
    "start_time": "2025-03-15T15:21:23.148Z"
   },
   {
    "duration": 276,
    "start_time": "2025-03-15T15:21:25.873Z"
   },
   {
    "duration": 36,
    "start_time": "2025-03-15T15:21:26.151Z"
   },
   {
    "duration": 27,
    "start_time": "2025-03-15T15:21:26.188Z"
   },
   {
    "duration": 296,
    "start_time": "2025-03-15T15:21:26.217Z"
   },
   {
    "duration": 1443,
    "start_time": "2025-03-15T15:21:26.514Z"
   },
   {
    "duration": 789,
    "start_time": "2025-03-15T15:21:27.959Z"
   },
   {
    "duration": 28,
    "start_time": "2025-03-15T15:21:28.750Z"
   },
   {
    "duration": 183,
    "start_time": "2025-03-15T15:21:28.779Z"
   },
   {
    "duration": 2617,
    "start_time": "2025-03-15T15:24:10.244Z"
   },
   {
    "duration": 885,
    "start_time": "2025-03-16T18:41:44.130Z"
   },
   {
    "duration": 181,
    "start_time": "2025-03-16T18:41:45.018Z"
   },
   {
    "duration": 44,
    "start_time": "2025-03-16T18:41:45.202Z"
   },
   {
    "duration": 24,
    "start_time": "2025-03-16T18:41:45.249Z"
   },
   {
    "duration": 2063,
    "start_time": "2025-03-16T18:41:45.275Z"
   },
   {
    "duration": 6,
    "start_time": "2025-03-16T18:41:47.340Z"
   },
   {
    "duration": 13,
    "start_time": "2025-03-16T18:41:47.349Z"
   },
   {
    "duration": 5,
    "start_time": "2025-03-16T18:41:47.364Z"
   },
   {
    "duration": 92,
    "start_time": "2025-03-16T18:41:47.371Z"
   },
   {
    "duration": 0,
    "start_time": "2025-03-16T18:41:47.466Z"
   },
   {
    "duration": 1,
    "start_time": "2025-03-16T18:41:47.468Z"
   },
   {
    "duration": 0,
    "start_time": "2025-03-16T18:41:47.470Z"
   },
   {
    "duration": 0,
    "start_time": "2025-03-16T18:41:47.472Z"
   },
   {
    "duration": 0,
    "start_time": "2025-03-16T18:41:47.474Z"
   },
   {
    "duration": 0,
    "start_time": "2025-03-16T18:41:47.475Z"
   },
   {
    "duration": 0,
    "start_time": "2025-03-16T18:41:47.476Z"
   },
   {
    "duration": 0,
    "start_time": "2025-03-16T18:41:47.478Z"
   },
   {
    "duration": 0,
    "start_time": "2025-03-16T18:41:47.479Z"
   },
   {
    "duration": 0,
    "start_time": "2025-03-16T18:41:47.481Z"
   },
   {
    "duration": 0,
    "start_time": "2025-03-16T18:41:47.483Z"
   },
   {
    "duration": 0,
    "start_time": "2025-03-16T18:41:47.484Z"
   },
   {
    "duration": 0,
    "start_time": "2025-03-16T18:41:47.486Z"
   },
   {
    "duration": 0,
    "start_time": "2025-03-16T18:41:47.487Z"
   },
   {
    "duration": 0,
    "start_time": "2025-03-16T18:41:47.489Z"
   },
   {
    "duration": 0,
    "start_time": "2025-03-16T18:41:47.490Z"
   },
   {
    "duration": 0,
    "start_time": "2025-03-16T18:41:47.491Z"
   },
   {
    "duration": 0,
    "start_time": "2025-03-16T18:41:47.493Z"
   },
   {
    "duration": 0,
    "start_time": "2025-03-16T18:41:47.494Z"
   },
   {
    "duration": 0,
    "start_time": "2025-03-16T18:41:47.495Z"
   },
   {
    "duration": 0,
    "start_time": "2025-03-16T18:41:47.496Z"
   },
   {
    "duration": 0,
    "start_time": "2025-03-16T18:41:47.497Z"
   },
   {
    "duration": 0,
    "start_time": "2025-03-16T18:41:47.499Z"
   },
   {
    "duration": 0,
    "start_time": "2025-03-16T18:41:47.500Z"
   },
   {
    "duration": 0,
    "start_time": "2025-03-16T18:41:47.558Z"
   },
   {
    "duration": 0,
    "start_time": "2025-03-16T18:41:47.559Z"
   },
   {
    "duration": 14,
    "start_time": "2025-03-16T18:42:37.924Z"
   },
   {
    "duration": 4,
    "start_time": "2025-03-16T18:42:41.036Z"
   },
   {
    "duration": 9,
    "start_time": "2025-03-16T18:42:42.924Z"
   },
   {
    "duration": 4,
    "start_time": "2025-03-16T18:43:13.365Z"
   },
   {
    "duration": 96,
    "start_time": "2025-03-16T18:43:13.371Z"
   },
   {
    "duration": 28,
    "start_time": "2025-03-16T18:43:13.469Z"
   },
   {
    "duration": 22,
    "start_time": "2025-03-16T18:43:13.499Z"
   },
   {
    "duration": 2141,
    "start_time": "2025-03-16T18:43:13.524Z"
   },
   {
    "duration": 5,
    "start_time": "2025-03-16T18:43:15.667Z"
   },
   {
    "duration": 8,
    "start_time": "2025-03-16T18:43:15.674Z"
   },
   {
    "duration": 12,
    "start_time": "2025-03-16T18:43:15.683Z"
   },
   {
    "duration": 5,
    "start_time": "2025-03-16T18:43:15.697Z"
   },
   {
    "duration": 8,
    "start_time": "2025-03-16T18:43:15.704Z"
   },
   {
    "duration": 4,
    "start_time": "2025-03-16T18:43:15.714Z"
   },
   {
    "duration": 8,
    "start_time": "2025-03-16T18:43:15.757Z"
   },
   {
    "duration": 24,
    "start_time": "2025-03-16T18:43:15.767Z"
   },
   {
    "duration": 26,
    "start_time": "2025-03-16T18:43:15.795Z"
   },
   {
    "duration": 13,
    "start_time": "2025-03-16T18:43:15.823Z"
   },
   {
    "duration": 21,
    "start_time": "2025-03-16T18:43:15.838Z"
   },
   {
    "duration": 4,
    "start_time": "2025-03-16T18:43:15.860Z"
   },
   {
    "duration": 92,
    "start_time": "2025-03-16T18:43:15.866Z"
   },
   {
    "duration": 5,
    "start_time": "2025-03-16T18:43:15.960Z"
   },
   {
    "duration": 6,
    "start_time": "2025-03-16T18:43:15.967Z"
   },
   {
    "duration": 5,
    "start_time": "2025-03-16T18:43:15.975Z"
   },
   {
    "duration": 5,
    "start_time": "2025-03-16T18:43:15.982Z"
   },
   {
    "duration": 7,
    "start_time": "2025-03-16T18:43:15.989Z"
   },
   {
    "duration": 4,
    "start_time": "2025-03-16T18:43:15.998Z"
   },
   {
    "duration": 86,
    "start_time": "2025-03-16T18:43:16.003Z"
   },
   {
    "duration": 2825,
    "start_time": "2025-03-16T18:43:16.091Z"
   },
   {
    "duration": 288,
    "start_time": "2025-03-16T18:43:18.918Z"
   },
   {
    "duration": 28,
    "start_time": "2025-03-16T18:43:19.207Z"
   },
   {
    "duration": 67,
    "start_time": "2025-03-16T18:43:19.237Z"
   },
   {
    "duration": 304,
    "start_time": "2025-03-16T18:43:19.306Z"
   },
   {
    "duration": 1479,
    "start_time": "2025-03-16T18:43:19.612Z"
   },
   {
    "duration": 775,
    "start_time": "2025-03-16T18:43:21.093Z"
   },
   {
    "duration": 20,
    "start_time": "2025-03-16T18:43:21.870Z"
   },
   {
    "duration": 179,
    "start_time": "2025-03-16T18:43:21.891Z"
   },
   {
    "duration": 16,
    "start_time": "2025-03-16T18:45:30.820Z"
   },
   {
    "duration": 6,
    "start_time": "2025-03-16T18:48:52.243Z"
   },
   {
    "duration": 52,
    "start_time": "2025-03-16T18:49:04.452Z"
   },
   {
    "duration": 5,
    "start_time": "2025-03-16T18:49:19.197Z"
   },
   {
    "duration": 39,
    "start_time": "2025-03-16T18:50:45.483Z"
   },
   {
    "duration": 12,
    "start_time": "2025-03-16T18:53:43.848Z"
   },
   {
    "duration": 7,
    "start_time": "2025-03-16T18:53:49.227Z"
   },
   {
    "duration": 7,
    "start_time": "2025-03-16T18:53:51.546Z"
   },
   {
    "duration": 2,
    "start_time": "2025-03-16T18:54:14.122Z"
   },
   {
    "duration": 95,
    "start_time": "2025-03-16T18:54:14.131Z"
   },
   {
    "duration": 41,
    "start_time": "2025-03-16T18:54:14.228Z"
   },
   {
    "duration": 15,
    "start_time": "2025-03-16T18:54:14.271Z"
   },
   {
    "duration": 2119,
    "start_time": "2025-03-16T18:54:14.289Z"
   },
   {
    "duration": 7,
    "start_time": "2025-03-16T18:54:16.409Z"
   },
   {
    "duration": 16,
    "start_time": "2025-03-16T18:54:16.418Z"
   },
   {
    "duration": 31,
    "start_time": "2025-03-16T18:54:16.436Z"
   },
   {
    "duration": 4,
    "start_time": "2025-03-16T18:54:16.470Z"
   },
   {
    "duration": 10,
    "start_time": "2025-03-16T18:54:16.476Z"
   },
   {
    "duration": 6,
    "start_time": "2025-03-16T18:54:16.489Z"
   },
   {
    "duration": 7,
    "start_time": "2025-03-16T18:54:16.497Z"
   },
   {
    "duration": 14,
    "start_time": "2025-03-16T18:54:16.505Z"
   },
   {
    "duration": 18,
    "start_time": "2025-03-16T18:54:16.557Z"
   },
   {
    "duration": 5,
    "start_time": "2025-03-16T18:54:16.577Z"
   },
   {
    "duration": 9,
    "start_time": "2025-03-16T18:54:16.583Z"
   },
   {
    "duration": 28,
    "start_time": "2025-03-16T18:54:16.593Z"
   },
   {
    "duration": 16,
    "start_time": "2025-03-16T18:54:16.622Z"
   },
   {
    "duration": 7,
    "start_time": "2025-03-16T18:54:16.658Z"
   },
   {
    "duration": 4,
    "start_time": "2025-03-16T18:54:16.666Z"
   },
   {
    "duration": 103,
    "start_time": "2025-03-16T18:54:16.671Z"
   },
   {
    "duration": 5,
    "start_time": "2025-03-16T18:54:16.775Z"
   },
   {
    "duration": 8,
    "start_time": "2025-03-16T18:54:16.783Z"
   },
   {
    "duration": 5,
    "start_time": "2025-03-16T18:54:16.793Z"
   },
   {
    "duration": 5,
    "start_time": "2025-03-16T18:54:16.800Z"
   },
   {
    "duration": 7,
    "start_time": "2025-03-16T18:54:16.807Z"
   },
   {
    "duration": 4,
    "start_time": "2025-03-16T18:54:16.815Z"
   },
   {
    "duration": 77,
    "start_time": "2025-03-16T18:54:16.821Z"
   },
   {
    "duration": 2917,
    "start_time": "2025-03-16T18:54:16.902Z"
   },
   {
    "duration": 300,
    "start_time": "2025-03-16T18:54:19.820Z"
   },
   {
    "duration": 44,
    "start_time": "2025-03-16T18:54:20.123Z"
   },
   {
    "duration": 28,
    "start_time": "2025-03-16T18:54:20.169Z"
   },
   {
    "duration": 246,
    "start_time": "2025-03-16T18:54:20.198Z"
   },
   {
    "duration": 1678,
    "start_time": "2025-03-16T18:54:20.446Z"
   },
   {
    "duration": 232,
    "start_time": "2025-03-16T18:54:22.126Z"
   },
   {
    "duration": 20,
    "start_time": "2025-03-16T18:54:22.359Z"
   },
   {
    "duration": 191,
    "start_time": "2025-03-16T18:54:22.380Z"
   },
   {
    "duration": 2,
    "start_time": "2025-03-16T18:54:33.666Z"
   },
   {
    "duration": 4,
    "start_time": "2025-03-16T18:54:59.180Z"
   },
   {
    "duration": 2,
    "start_time": "2025-03-16T18:55:17.365Z"
   },
   {
    "duration": 8,
    "start_time": "2025-03-16T18:56:05.190Z"
   },
   {
    "duration": 63,
    "start_time": "2025-03-16T18:56:57.904Z"
   },
   {
    "duration": 233,
    "start_time": "2025-03-16T19:17:40.994Z"
   },
   {
    "duration": 283,
    "start_time": "2025-03-16T19:17:53.863Z"
   },
   {
    "duration": 137,
    "start_time": "2025-03-16T19:27:58.449Z"
   },
   {
    "duration": 303,
    "start_time": "2025-03-16T19:28:02.272Z"
   },
   {
    "duration": 134,
    "start_time": "2025-03-16T19:28:23.176Z"
   },
   {
    "duration": 298,
    "start_time": "2025-03-16T19:28:27.284Z"
   },
   {
    "duration": 138,
    "start_time": "2025-03-16T19:28:41.793Z"
   },
   {
    "duration": 328,
    "start_time": "2025-03-16T19:28:44.852Z"
   },
   {
    "duration": 140,
    "start_time": "2025-03-16T19:28:52.638Z"
   },
   {
    "duration": 330,
    "start_time": "2025-03-16T19:28:54.921Z"
   },
   {
    "duration": 129,
    "start_time": "2025-03-16T19:30:59.076Z"
   },
   {
    "duration": 281,
    "start_time": "2025-03-16T19:31:02.666Z"
   },
   {
    "duration": 274,
    "start_time": "2025-03-16T19:31:56.475Z"
   },
   {
    "duration": 314,
    "start_time": "2025-03-16T19:32:00.554Z"
   },
   {
    "duration": 144,
    "start_time": "2025-03-16T19:32:09.366Z"
   },
   {
    "duration": 138,
    "start_time": "2025-03-16T19:33:28.934Z"
   },
   {
    "duration": 296,
    "start_time": "2025-03-16T19:33:30.450Z"
   },
   {
    "duration": 136,
    "start_time": "2025-03-16T19:33:43.083Z"
   },
   {
    "duration": 322,
    "start_time": "2025-03-16T19:33:43.904Z"
   },
   {
    "duration": 390,
    "start_time": "2025-03-16T19:35:12.971Z"
   },
   {
    "duration": 457,
    "start_time": "2025-03-16T19:41:22.779Z"
   },
   {
    "duration": 353,
    "start_time": "2025-03-16T19:43:36.786Z"
   },
   {
    "duration": 382,
    "start_time": "2025-03-16T19:51:16.658Z"
   },
   {
    "duration": 319,
    "start_time": "2025-03-16T19:53:06.222Z"
   },
   {
    "duration": 315,
    "start_time": "2025-03-16T19:55:20.774Z"
   },
   {
    "duration": 3,
    "start_time": "2025-03-16T19:55:31.477Z"
   },
   {
    "duration": 126,
    "start_time": "2025-03-16T19:55:31.482Z"
   },
   {
    "duration": 47,
    "start_time": "2025-03-16T19:55:31.611Z"
   },
   {
    "duration": 31,
    "start_time": "2025-03-16T19:55:31.660Z"
   },
   {
    "duration": 2151,
    "start_time": "2025-03-16T19:55:31.694Z"
   },
   {
    "duration": 12,
    "start_time": "2025-03-16T19:55:33.848Z"
   },
   {
    "duration": 41,
    "start_time": "2025-03-16T19:55:33.862Z"
   },
   {
    "duration": 40,
    "start_time": "2025-03-16T19:55:33.905Z"
   },
   {
    "duration": 17,
    "start_time": "2025-03-16T19:55:33.946Z"
   },
   {
    "duration": 6,
    "start_time": "2025-03-16T19:55:33.964Z"
   },
   {
    "duration": 9,
    "start_time": "2025-03-16T19:55:33.974Z"
   },
   {
    "duration": 17,
    "start_time": "2025-03-16T19:55:33.985Z"
   },
   {
    "duration": 8,
    "start_time": "2025-03-16T19:55:34.004Z"
   },
   {
    "duration": 16,
    "start_time": "2025-03-16T19:55:34.014Z"
   },
   {
    "duration": 30,
    "start_time": "2025-03-16T19:55:34.032Z"
   },
   {
    "duration": 17,
    "start_time": "2025-03-16T19:55:34.064Z"
   },
   {
    "duration": 9,
    "start_time": "2025-03-16T19:55:34.084Z"
   },
   {
    "duration": 28,
    "start_time": "2025-03-16T19:55:34.094Z"
   },
   {
    "duration": 40,
    "start_time": "2025-03-16T19:55:34.124Z"
   },
   {
    "duration": 5,
    "start_time": "2025-03-16T19:55:34.166Z"
   },
   {
    "duration": 7,
    "start_time": "2025-03-16T19:55:34.173Z"
   },
   {
    "duration": 4,
    "start_time": "2025-03-16T19:55:34.181Z"
   },
   {
    "duration": 109,
    "start_time": "2025-03-16T19:55:34.186Z"
   },
   {
    "duration": 4,
    "start_time": "2025-03-16T19:55:34.296Z"
   },
   {
    "duration": 46,
    "start_time": "2025-03-16T19:55:34.302Z"
   },
   {
    "duration": 19,
    "start_time": "2025-03-16T19:55:34.350Z"
   },
   {
    "duration": 16,
    "start_time": "2025-03-16T19:55:34.371Z"
   },
   {
    "duration": 7,
    "start_time": "2025-03-16T19:55:34.389Z"
   },
   {
    "duration": 4,
    "start_time": "2025-03-16T19:55:34.399Z"
   },
   {
    "duration": 43,
    "start_time": "2025-03-16T19:55:34.405Z"
   },
   {
    "duration": 135,
    "start_time": "2025-03-16T19:55:34.457Z"
   },
   {
    "duration": 310,
    "start_time": "2025-03-16T19:55:34.594Z"
   },
   {
    "duration": 552,
    "start_time": "2025-03-16T19:55:34.906Z"
   },
   {
    "duration": 352,
    "start_time": "2025-03-16T19:55:35.460Z"
   },
   {
    "duration": 367,
    "start_time": "2025-03-16T19:55:35.814Z"
   },
   {
    "duration": 357,
    "start_time": "2025-03-16T19:55:36.183Z"
   },
   {
    "duration": 345,
    "start_time": "2025-03-16T19:55:36.542Z"
   },
   {
    "duration": 325,
    "start_time": "2025-03-16T19:55:36.889Z"
   },
   {
    "duration": 27,
    "start_time": "2025-03-16T19:55:37.216Z"
   },
   {
    "duration": 43,
    "start_time": "2025-03-16T19:55:37.245Z"
   },
   {
    "duration": 376,
    "start_time": "2025-03-16T19:55:37.290Z"
   },
   {
    "duration": 1535,
    "start_time": "2025-03-16T19:55:37.668Z"
   },
   {
    "duration": 235,
    "start_time": "2025-03-16T19:55:39.205Z"
   },
   {
    "duration": 28,
    "start_time": "2025-03-16T19:55:39.443Z"
   },
   {
    "duration": 179,
    "start_time": "2025-03-16T19:55:39.473Z"
   },
   {
    "duration": 307,
    "start_time": "2025-03-16T19:56:28.070Z"
   },
   {
    "duration": 320,
    "start_time": "2025-03-16T19:57:51.030Z"
   },
   {
    "duration": 482,
    "start_time": "2025-03-16T19:59:06.586Z"
   },
   {
    "duration": 359,
    "start_time": "2025-03-16T20:00:43.423Z"
   },
   {
    "duration": 86,
    "start_time": "2025-03-16T20:02:16.011Z"
   },
   {
    "duration": 19,
    "start_time": "2025-03-16T20:08:02.590Z"
   },
   {
    "duration": 12,
    "start_time": "2025-03-16T20:28:07.498Z"
   },
   {
    "duration": 13,
    "start_time": "2025-03-16T20:29:01.672Z"
   },
   {
    "duration": 215,
    "start_time": "2025-03-16T20:29:06.608Z"
   },
   {
    "duration": 13,
    "start_time": "2025-03-16T20:35:18.573Z"
   },
   {
    "duration": 198,
    "start_time": "2025-03-16T20:35:23.286Z"
   },
   {
    "duration": 348,
    "start_time": "2025-03-16T20:35:50.482Z"
   },
   {
    "duration": 68,
    "start_time": "2025-03-16T20:36:16.147Z"
   },
   {
    "duration": 168,
    "start_time": "2025-03-16T20:36:40.344Z"
   },
   {
    "duration": 846,
    "start_time": "2025-03-16T20:38:58.749Z"
   },
   {
    "duration": 628,
    "start_time": "2025-03-17T06:28:24.088Z"
   },
   {
    "duration": 89,
    "start_time": "2025-03-17T06:28:24.718Z"
   },
   {
    "duration": 29,
    "start_time": "2025-03-17T06:28:24.809Z"
   },
   {
    "duration": 24,
    "start_time": "2025-03-17T06:28:24.839Z"
   },
   {
    "duration": 1950,
    "start_time": "2025-03-17T06:28:24.865Z"
   },
   {
    "duration": 6,
    "start_time": "2025-03-17T06:28:26.816Z"
   },
   {
    "duration": 17,
    "start_time": "2025-03-17T06:28:26.823Z"
   },
   {
    "duration": 2,
    "start_time": "2025-03-17T06:28:26.842Z"
   },
   {
    "duration": 22,
    "start_time": "2025-03-17T06:28:26.845Z"
   },
   {
    "duration": 4,
    "start_time": "2025-03-17T06:28:26.868Z"
   },
   {
    "duration": 12,
    "start_time": "2025-03-17T06:28:26.873Z"
   },
   {
    "duration": 4,
    "start_time": "2025-03-17T06:28:26.887Z"
   },
   {
    "duration": 8,
    "start_time": "2025-03-17T06:28:26.893Z"
   },
   {
    "duration": 19,
    "start_time": "2025-03-17T06:28:26.904Z"
   },
   {
    "duration": 12,
    "start_time": "2025-03-17T06:28:26.924Z"
   },
   {
    "duration": 25,
    "start_time": "2025-03-17T06:28:26.938Z"
   },
   {
    "duration": 19,
    "start_time": "2025-03-17T06:28:26.965Z"
   },
   {
    "duration": 25,
    "start_time": "2025-03-17T06:28:26.986Z"
   },
   {
    "duration": 29,
    "start_time": "2025-03-17T06:28:27.013Z"
   },
   {
    "duration": 5,
    "start_time": "2025-03-17T06:28:27.043Z"
   },
   {
    "duration": 10,
    "start_time": "2025-03-17T06:28:27.049Z"
   },
   {
    "duration": 4,
    "start_time": "2025-03-17T06:28:27.061Z"
   },
   {
    "duration": 78,
    "start_time": "2025-03-17T06:28:27.067Z"
   },
   {
    "duration": 18,
    "start_time": "2025-03-17T06:28:27.146Z"
   },
   {
    "duration": 14,
    "start_time": "2025-03-17T06:28:27.167Z"
   },
   {
    "duration": 7,
    "start_time": "2025-03-17T06:28:27.182Z"
   },
   {
    "duration": 6,
    "start_time": "2025-03-17T06:28:27.191Z"
   },
   {
    "duration": 8,
    "start_time": "2025-03-17T06:28:27.199Z"
   },
   {
    "duration": 6,
    "start_time": "2025-03-17T06:28:27.210Z"
   },
   {
    "duration": 77,
    "start_time": "2025-03-17T06:28:27.218Z"
   },
   {
    "duration": 131,
    "start_time": "2025-03-17T06:28:27.297Z"
   },
   {
    "duration": 316,
    "start_time": "2025-03-17T06:28:27.429Z"
   },
   {
    "duration": 331,
    "start_time": "2025-03-17T06:28:27.746Z"
   },
   {
    "duration": 405,
    "start_time": "2025-03-17T06:28:28.078Z"
   },
   {
    "duration": 323,
    "start_time": "2025-03-17T06:28:28.485Z"
   },
   {
    "duration": 328,
    "start_time": "2025-03-17T06:28:28.810Z"
   },
   {
    "duration": 311,
    "start_time": "2025-03-17T06:28:29.140Z"
   },
   {
    "duration": 315,
    "start_time": "2025-03-17T06:28:29.452Z"
   },
   {
    "duration": 321,
    "start_time": "2025-03-17T06:28:29.769Z"
   },
   {
    "duration": 408,
    "start_time": "2025-03-17T06:28:30.092Z"
   },
   {
    "duration": 304,
    "start_time": "2025-03-17T06:28:30.505Z"
   },
   {
    "duration": 25,
    "start_time": "2025-03-17T06:28:30.810Z"
   },
   {
    "duration": 42,
    "start_time": "2025-03-17T06:28:30.837Z"
   },
   {
    "duration": 205,
    "start_time": "2025-03-17T06:28:30.881Z"
   },
   {
    "duration": 1390,
    "start_time": "2025-03-17T06:28:31.087Z"
   },
   {
    "duration": 732,
    "start_time": "2025-03-17T06:28:32.479Z"
   },
   {
    "duration": 206,
    "start_time": "2025-03-17T06:28:33.213Z"
   },
   {
    "duration": 198,
    "start_time": "2025-03-17T06:28:33.421Z"
   },
   {
    "duration": 356,
    "start_time": "2025-03-17T06:28:33.620Z"
   },
   {
    "duration": 174,
    "start_time": "2025-03-17T06:28:33.978Z"
   },
   {
    "duration": 751,
    "start_time": "2025-03-17T06:28:34.153Z"
   },
   {
    "duration": 18,
    "start_time": "2025-03-17T06:28:34.906Z"
   },
   {
    "duration": 179,
    "start_time": "2025-03-17T06:28:34.926Z"
   },
   {
    "duration": 822,
    "start_time": "2025-03-17T07:24:23.826Z"
   },
   {
    "duration": 102,
    "start_time": "2025-03-17T07:24:24.651Z"
   },
   {
    "duration": 32,
    "start_time": "2025-03-17T07:24:24.755Z"
   },
   {
    "duration": 17,
    "start_time": "2025-03-17T07:24:24.789Z"
   },
   {
    "duration": 1906,
    "start_time": "2025-03-17T07:24:24.808Z"
   },
   {
    "duration": 6,
    "start_time": "2025-03-17T07:24:26.716Z"
   },
   {
    "duration": 15,
    "start_time": "2025-03-17T07:24:26.723Z"
   },
   {
    "duration": 10,
    "start_time": "2025-03-17T07:24:26.739Z"
   },
   {
    "duration": 14,
    "start_time": "2025-03-17T07:24:26.751Z"
   },
   {
    "duration": 5,
    "start_time": "2025-03-17T07:24:26.767Z"
   },
   {
    "duration": 10,
    "start_time": "2025-03-17T07:24:26.773Z"
   },
   {
    "duration": 6,
    "start_time": "2025-03-17T07:24:26.784Z"
   },
   {
    "duration": 6,
    "start_time": "2025-03-17T07:24:26.791Z"
   },
   {
    "duration": 17,
    "start_time": "2025-03-17T07:24:26.799Z"
   },
   {
    "duration": 4,
    "start_time": "2025-03-17T07:24:26.818Z"
   },
   {
    "duration": 34,
    "start_time": "2025-03-17T07:24:26.823Z"
   },
   {
    "duration": 10,
    "start_time": "2025-03-17T07:24:26.859Z"
   },
   {
    "duration": 24,
    "start_time": "2025-03-17T07:24:26.871Z"
   },
   {
    "duration": 14,
    "start_time": "2025-03-17T07:24:26.897Z"
   },
   {
    "duration": 5,
    "start_time": "2025-03-17T07:24:26.913Z"
   },
   {
    "duration": 8,
    "start_time": "2025-03-17T07:24:26.957Z"
   },
   {
    "duration": 3,
    "start_time": "2025-03-17T07:24:26.967Z"
   },
   {
    "duration": 94,
    "start_time": "2025-03-17T07:24:26.972Z"
   },
   {
    "duration": 5,
    "start_time": "2025-03-17T07:24:27.068Z"
   },
   {
    "duration": 56,
    "start_time": "2025-03-17T07:24:27.074Z"
   },
   {
    "duration": 6,
    "start_time": "2025-03-17T07:24:27.132Z"
   },
   {
    "duration": 23,
    "start_time": "2025-03-17T07:24:27.139Z"
   },
   {
    "duration": 15,
    "start_time": "2025-03-17T07:24:27.166Z"
   },
   {
    "duration": 7,
    "start_time": "2025-03-17T07:24:27.183Z"
   },
   {
    "duration": 46,
    "start_time": "2025-03-17T07:24:27.191Z"
   },
   {
    "duration": 142,
    "start_time": "2025-03-17T07:24:27.239Z"
   },
   {
    "duration": 277,
    "start_time": "2025-03-17T07:24:27.383Z"
   },
   {
    "duration": 313,
    "start_time": "2025-03-17T07:24:27.662Z"
   },
   {
    "duration": 414,
    "start_time": "2025-03-17T07:24:27.977Z"
   },
   {
    "duration": 328,
    "start_time": "2025-03-17T07:24:28.392Z"
   },
   {
    "duration": 321,
    "start_time": "2025-03-17T07:24:28.722Z"
   },
   {
    "duration": 307,
    "start_time": "2025-03-17T07:24:29.044Z"
   },
   {
    "duration": 300,
    "start_time": "2025-03-17T07:24:29.357Z"
   },
   {
    "duration": 299,
    "start_time": "2025-03-17T07:24:29.658Z"
   },
   {
    "duration": 369,
    "start_time": "2025-03-17T07:24:29.958Z"
   },
   {
    "duration": 290,
    "start_time": "2025-03-17T07:24:30.329Z"
   },
   {
    "duration": 37,
    "start_time": "2025-03-17T07:24:30.621Z"
   },
   {
    "duration": 27,
    "start_time": "2025-03-17T07:24:30.659Z"
   },
   {
    "duration": 202,
    "start_time": "2025-03-17T07:24:30.688Z"
   },
   {
    "duration": 1366,
    "start_time": "2025-03-17T07:24:30.893Z"
   },
   {
    "duration": 734,
    "start_time": "2025-03-17T07:24:32.261Z"
   },
   {
    "duration": 207,
    "start_time": "2025-03-17T07:24:32.996Z"
   },
   {
    "duration": 202,
    "start_time": "2025-03-17T07:24:33.205Z"
   },
   {
    "duration": 322,
    "start_time": "2025-03-17T07:24:33.409Z"
   },
   {
    "duration": 164,
    "start_time": "2025-03-17T07:24:33.733Z"
   },
   {
    "duration": 747,
    "start_time": "2025-03-17T07:24:33.898Z"
   },
   {
    "duration": 23,
    "start_time": "2025-03-17T07:24:34.647Z"
   },
   {
    "duration": 162,
    "start_time": "2025-03-17T07:24:34.671Z"
   },
   {
    "duration": 804,
    "start_time": "2025-03-17T11:09:19.850Z"
   },
   {
    "duration": 110,
    "start_time": "2025-03-17T11:09:20.658Z"
   },
   {
    "duration": 29,
    "start_time": "2025-03-17T11:09:20.769Z"
   },
   {
    "duration": 14,
    "start_time": "2025-03-17T11:09:20.800Z"
   },
   {
    "duration": 1942,
    "start_time": "2025-03-17T11:09:20.816Z"
   },
   {
    "duration": 5,
    "start_time": "2025-03-17T11:09:22.760Z"
   },
   {
    "duration": 2,
    "start_time": "2025-03-17T11:09:22.767Z"
   },
   {
    "duration": 3,
    "start_time": "2025-03-17T11:09:22.771Z"
   },
   {
    "duration": 18,
    "start_time": "2025-03-17T11:09:22.776Z"
   },
   {
    "duration": 5,
    "start_time": "2025-03-17T11:09:22.796Z"
   },
   {
    "duration": 10,
    "start_time": "2025-03-17T11:09:22.802Z"
   },
   {
    "duration": 8,
    "start_time": "2025-03-17T11:09:22.813Z"
   },
   {
    "duration": 8,
    "start_time": "2025-03-17T11:09:22.822Z"
   },
   {
    "duration": 38,
    "start_time": "2025-03-17T11:09:22.832Z"
   },
   {
    "duration": 4,
    "start_time": "2025-03-17T11:09:22.871Z"
   },
   {
    "duration": 4,
    "start_time": "2025-03-17T11:09:22.876Z"
   },
   {
    "duration": 9,
    "start_time": "2025-03-17T11:09:22.882Z"
   },
   {
    "duration": 22,
    "start_time": "2025-03-17T11:09:22.892Z"
   },
   {
    "duration": 11,
    "start_time": "2025-03-17T11:09:22.916Z"
   },
   {
    "duration": 32,
    "start_time": "2025-03-17T11:09:22.928Z"
   },
   {
    "duration": 16,
    "start_time": "2025-03-17T11:09:22.962Z"
   },
   {
    "duration": 7,
    "start_time": "2025-03-17T11:09:22.979Z"
   },
   {
    "duration": 82,
    "start_time": "2025-03-17T11:09:22.988Z"
   },
   {
    "duration": 4,
    "start_time": "2025-03-17T11:09:23.071Z"
   },
   {
    "duration": 8,
    "start_time": "2025-03-17T11:09:23.076Z"
   },
   {
    "duration": 5,
    "start_time": "2025-03-17T11:09:23.085Z"
   },
   {
    "duration": 4,
    "start_time": "2025-03-17T11:09:23.092Z"
   },
   {
    "duration": 6,
    "start_time": "2025-03-17T11:09:23.100Z"
   },
   {
    "duration": 3,
    "start_time": "2025-03-17T11:09:23.107Z"
   },
   {
    "duration": 67,
    "start_time": "2025-03-17T11:09:23.112Z"
   },
   {
    "duration": 116,
    "start_time": "2025-03-17T11:09:23.180Z"
   },
   {
    "duration": 271,
    "start_time": "2025-03-17T11:09:23.298Z"
   },
   {
    "duration": 324,
    "start_time": "2025-03-17T11:09:23.571Z"
   },
   {
    "duration": 384,
    "start_time": "2025-03-17T11:09:23.897Z"
   },
   {
    "duration": 318,
    "start_time": "2025-03-17T11:09:24.283Z"
   },
   {
    "duration": 313,
    "start_time": "2025-03-17T11:09:24.602Z"
   },
   {
    "duration": 299,
    "start_time": "2025-03-17T11:09:24.917Z"
   },
   {
    "duration": 304,
    "start_time": "2025-03-17T11:09:25.218Z"
   },
   {
    "duration": 395,
    "start_time": "2025-03-17T11:09:25.524Z"
   },
   {
    "duration": 301,
    "start_time": "2025-03-17T11:09:25.920Z"
   },
   {
    "duration": 303,
    "start_time": "2025-03-17T11:09:26.222Z"
   },
   {
    "duration": 31,
    "start_time": "2025-03-17T11:09:26.527Z"
   },
   {
    "duration": 22,
    "start_time": "2025-03-17T11:09:26.560Z"
   },
   {
    "duration": 191,
    "start_time": "2025-03-17T11:09:26.583Z"
   },
   {
    "duration": 1351,
    "start_time": "2025-03-17T11:09:26.776Z"
   },
   {
    "duration": 750,
    "start_time": "2025-03-17T11:09:28.129Z"
   },
   {
    "duration": 199,
    "start_time": "2025-03-17T11:09:28.881Z"
   },
   {
    "duration": 202,
    "start_time": "2025-03-17T11:09:29.081Z"
   },
   {
    "duration": 394,
    "start_time": "2025-03-17T11:09:29.285Z"
   },
   {
    "duration": 166,
    "start_time": "2025-03-17T11:09:29.681Z"
   },
   {
    "duration": 728,
    "start_time": "2025-03-17T11:09:29.849Z"
   },
   {
    "duration": 18,
    "start_time": "2025-03-17T11:09:30.579Z"
   },
   {
    "duration": 170,
    "start_time": "2025-03-17T11:09:30.599Z"
   }
  ],
  "colab": {
   "provenance": []
  },
  "kernelspec": {
   "display_name": "Python 3 (ipykernel)",
   "language": "python",
   "name": "python3"
  },
  "language_info": {
   "codemirror_mode": {
    "name": "ipython",
    "version": 3
   },
   "file_extension": ".py",
   "mimetype": "text/x-python",
   "name": "python",
   "nbconvert_exporter": "python",
   "pygments_lexer": "ipython3",
   "version": "3.9.5"
  },
  "toc": {
   "base_numbering": 1,
   "nav_menu": {},
   "number_sections": true,
   "sideBar": true,
   "skip_h1_title": true,
   "title_cell": "Table of Contents",
   "title_sidebar": "Contents",
   "toc_cell": false,
   "toc_position": {},
   "toc_section_display": true,
   "toc_window_display": false
  }
 },
 "nbformat": 4,
 "nbformat_minor": 1
}
